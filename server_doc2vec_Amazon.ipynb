{
 "cells": [
  {
   "cell_type": "code",
   "execution_count": 71,
   "metadata": {
    "collapsed": true
   },
   "outputs": [],
   "source": [
    "from gensim import models\n",
    "from random import shuffle\n",
    "from nltk.tokenize import word_tokenize\n",
    "import json\n",
    "import multiprocessing\n",
    "from gensim.models.doc2vec import Doc2Vec, TaggedDocument\n",
    "import gensim.models.doc2vec\n",
    "import numpy as np\n",
    "import gzip\n",
    "import time\n",
    "import subprocess\n",
    "import random\n",
    "import arff\n",
    "from subprocess import Popen, PIPE, STDOUT"
   ]
  },
  {
   "cell_type": "code",
   "execution_count": 230,
   "metadata": {
    "collapsed": false
   },
   "outputs": [
    {
     "name": "stdout",
     "output_type": "stream",
     "text": [
      "Total reviews in dataset:  231780\n"
     ]
    }
   ],
   "source": [
    "data = []\n",
    "with gzip.open('/data/shared/reviews/amazon_snap/reviews_Video_Games_5.json.gz') as f:\n",
    "    for line in f:\n",
    "        data.append(json.loads(line))\n",
    "\n",
    "print('Total reviews in dataset: ', len(data))"
   ]
  },
  {
   "cell_type": "code",
   "execution_count": null,
   "metadata": {
    "collapsed": false
   },
   "outputs": [],
   "source": [
    "#If there is no tokenizer, download here\n",
    "\n",
    "#import nltk\n",
    "#nltk.download()\n",
    "len(data)"
   ]
  },
  {
   "cell_type": "code",
   "execution_count": 298,
   "metadata": {
    "collapsed": false
   },
   "outputs": [
    {
     "name": "stdout",
     "output_type": "stream",
     "text": [
      "Total reviews introduced:  217147\n"
     ]
    }
   ],
   "source": [
    "sentences = []\n",
    "\n",
    "for l in range(len(data)):\n",
    "    sentence = models.doc2vec.LabeledSentence(\n",
    "        words = word_tokenize(data[l]['reviewText'].lower()), \n",
    "        tags = [data[l]['reviewerID']+'|'+data[l]['asin']])\n",
    "    if len(sentence[0]) > 25:\n",
    "        sentences.append(sentence)\n",
    "\n",
    "print('Total reviews introduced: ', len(sentences))"
   ]
  },
  {
   "cell_type": "code",
   "execution_count": 313,
   "metadata": {
    "collapsed": true
   },
   "outputs": [],
   "source": [
    "assert gensim.models.doc2vec.FAST_VERSION > -1, \"this will be painfully slow otherwise\"\n",
    "\n",
    "model_dm = models.Doc2Vec(dm=1, dm_mean=1, size=100, window=10, min_count=3, workers=multiprocessing.cpu_count(), alpha=.025, min_alpha=.025)\n",
    "#model.build_vocab(sentences)\n",
    "\n",
    "model_dbow = models.Doc2Vec(dm=0, dbow_words=1, size=100, window=10, min_count=3, workers=multiprocessing.cpu_count())"
   ]
  },
  {
   "cell_type": "code",
   "execution_count": 314,
   "metadata": {
    "collapsed": false
   },
   "outputs": [
    {
     "name": "stdout",
     "output_type": "stream",
     "text": [
      "Doc2Vec(dbow+w,d100,n5,w10,mc3,s0.001,t4)\n",
      "Doc2Vec(dm/m,d100,n5,w10,mc3,s0.001,t4)\n"
     ]
    }
   ],
   "source": [
    "model_dbow.build_vocab(sentences)\n",
    "print(str(model_dbow))\n",
    "\n",
    "model_dm.build_vocab(sentences)\n",
    "print(str(model_dm))"
   ]
  },
  {
   "cell_type": "code",
   "execution_count": 315,
   "metadata": {
    "collapsed": true
   },
   "outputs": [],
   "source": [
    "assert len(model_dbow.docvecs) == len(sentences), \"there are overlapping section titles! {0} docvecs and {1} documents\".format(len(model.docvecs), len(sentences))\n",
    "assert len(model_dm.docvecs) == len(sentences), \"there are overlapping section titles! {0} docvecs and {1} documents\".format(len(model.docvecs), len(sentences))"
   ]
  },
  {
   "cell_type": "code",
   "execution_count": null,
   "metadata": {
    "collapsed": false
   },
   "outputs": [
    {
     "name": "stdout",
     "output_type": "stream",
     "text": [
      "Training doc2vec_dbow model, epoch 0\n",
      "Training doc2vec_dbow model, epoch 1\n",
      "Training doc2vec_dbow model, epoch 2\n",
      "Training doc2vec_dbow model, epoch 3\n",
      "Training doc2vec_dbow model, epoch 4\n",
      "Training doc2vec_dbow model, epoch 5\n",
      "Training doc2vec_dbow model, epoch 6\n"
     ]
    }
   ],
   "source": [
    "for epoch in range(10):\n",
    "    print(\"Training doc2vec_dbow model, epoch {}\".format(epoch)) \n",
    "    #Randomly shuffle sentences for better training\n",
    "    #shuffle(sentences)\n",
    "    model_dbow.train(sentences)\n",
    "    #model_dbow.alpha -= 0.002 # decrease the learning rate\n",
    "    model_dbow.min_alpha = model_dbow.alpha # fix the learning rate, no decay\n",
    "    \n",
    "model_dbow.save(\"/data/shared/trainedmodels/VidGam_dbow10epoch25.doc2vec\")"
   ]
  },
  {
   "cell_type": "code",
   "execution_count": 319,
   "metadata": {
    "collapsed": false
   },
   "outputs": [
    {
     "data": {
      "text/plain": [
       "1.0"
      ]
     },
     "execution_count": 319,
     "metadata": {},
     "output_type": "execute_result"
    }
   ],
   "source": [
    "test_dbow = model_dbow.docvecs.similarity( d1='A34UVV757IKPVB|B004FSE52C', d2='A34UVV757IKPVB|B004FSE52C')\n",
    "test_dbow"
   ]
  },
  {
   "cell_type": "code",
   "execution_count": 4,
   "metadata": {
    "collapsed": false
   },
   "outputs": [],
   "source": [
    "model_dbow = gensim.models.Doc2Vec.load(\"/data/shared/trainedmodels/VidGam_dbow10epoch.doc2vec\")"
   ]
  },
  {
   "cell_type": "code",
   "execution_count": 258,
   "metadata": {
    "collapsed": true
   },
   "outputs": [],
   "source": [
    "inverted_sentences = {}\n",
    "\n",
    "for x in range(len(sentences)):\n",
    "    a = sentences[x][1][0]\n",
    "    b = ' '.join(sentences[x][0])\n",
    "    inverted_sentences[a] = b"
   ]
  },
  {
   "cell_type": "code",
   "execution_count": 317,
   "metadata": {
    "collapsed": false
   },
   "outputs": [
    {
     "name": "stdout",
     "output_type": "stream",
     "text": [
      "Top 5 similar reviews in dbow to:  first things first -if you have n't played the first assassin 's creed and subsequent releases ( or at least starting with ii , and going forward ) - go no further . do yourself a service and start with ii as a bare minimum and work yourself forward to this , the 3rd in the ezio auditore trilogy . otherwise , you 'll be completely lost.for those of you familiar with the story , you 're going to find ezio auditore in his twilight years on a quest to find altair 's legendary , yet quite well-protected , library . the templars have caught wind of it and ezio is also trying to find his way in to thwart their attempts at worldwide control . this is hardly a spoiler as you 're quickly brought into this within minutes of beginning to play ezio - no further spoilers here.from the standpoint of playing all of the previous assassin 's creed entries , how does this one fare ? well , i finally played it tonight and i must say that it is really quite remarkable . there 's a major change in the way that combat is handled - you select a primary and then a secondary weapon so that you can enter a sword fight and then throw knives at will , for example ( no longer do you have to constantly `` weapon wheel '' between sword and throwing knives constantly ) . graphic engine has been updated and it 's quite smooth ; i do n't find it stuttering nearly as often as it used to . even the story itself has been given a facelift - now there 's more of a cohesive , unified story rather than a series of seemingly disjointed events culminating in your goal in the first place of killing `` x '' person because he did `` y '' . `` eagle vision '' also has some significant improvements , some subtle and some not . for example , in addition to identifying enemies , you 'll actually see faint red lines indicating a guard 's patrol route . this enhances the formulation of tactics . in other cases , where smoke bombs are even more effective at obscuring your enemies ' ability to attack you , `` eagle vision '' will actually allow you to pierce the cloud and attack your enemies at will . in addition , you will be collecting materials to craft a variety of different bombs ( lethal and non-lethal ) . the animations of ezio kill moves are superb and some of his abilities show that ezio , in his twilight years , is deadlier than ever . the music , as always , is very well-done and the voice acting is even better than usual . the beginning of the game reminds me of matrix revolutions , but i do mean this in a good way.the environments are breathtakingly beautiful . the game has departed from italy and finds itself in constantinople , once the true crossroads of the world between europe and asia when the united states was still a mere 264 years away from declaring its own independence . ezio finds himself with new equipment ( the hook blade is fun opening a variety of attacks as well as an ability to zip line around your environment - fantastic ! ) , friends ( including a romantic interest ) , and actually enters into the conflict politically - it 's no longer a mere templar/assassin conflict . there are layers to appreciate here as ezio makes an ally and as i am starting to delve into it , i truly appreciate what ubisoft has created here.if there is one thing that i have to complain about , it 's the mode where you have to defend your own assassin 's keeps in addition to creating them for those of you familiar with brotherhood . it becomes a `` tower defense '' game at this point ... and i do n't mean that in a flattering way . it 's one thing that ubisoft could have omitted ( or seriously improved upon ) without impacting the story whatsoever . it comes off as a silly gimmick that did n't appear to have been given a significant amount of thought in terms of how it flows with the rest of the interlocking parts . this is an oprhan 301st piece in a 300-piece puzzle ; it does n't fit and , quite honestly , you do n't really need it to complete the experience.i have n't had a chance to explore multiplayer too much , but what i 've seen so far seems to indicate that ubisoft has taken the best parts of brotherhood and have added both modes and additional customization not seen before . i 'm more into the story then the multiplayer , but revelations has shown me enough to convince me to give it a try ... later . assassin 's creed is still , first and foremost , about continuing a quite fascinating story . and the final chapter to the overall story arc ( with ezio 's presumably ending here , if rumors are believed ) is to come in yet a single year , although how ubisoft plans to bring this epic to a conclusion in the absence of such a strong character like ezio has my curiosity piqued.despite the fault of `` tower defense '' , everything else is so vastly improved that i still have to give it a solid 4.75 stars ( 5 stars on the amazon scale - do n't think it deserves a 4 ) . enough said - get it and enjoy !\n",
      "\n",
      "ID:  A17NVM7IAPF2NS|B002I08RR8  Review:  first things first -if you have n't played the first assassin 's creed and subsequent releases ( or at least starting with ii , and going forward ) - go no further . do yourself a service and start with ii as a bare minimum and work yourself forward to this , the 3rd in the ezio auditore trilogy . otherwise , you 'll be completely lost.for those of you familiar with the story , you 're going to find ezio auditore in his twilight years on a quest to find altair 's legendary , yet quite well-protected , library . the templars have caught wind of it and ezio is also trying to find his way in to thwart their attempts at worldwide control . this is hardly a spoiler as you 're quickly brought into this within minutes of beginning to play ezio - no further spoilers here.from the standpoint of playing all of the previous assassin 's creed entries , how does this one fare ? well , i finally played it tonight and i must say that it is really quite remarkable . there 's a major change in the way that combat is handled - you select a primary and then a secondary weapon so that you can enter a sword fight and then throw knives at will , for example ( no longer do you have to constantly `` weapon wheel '' between sword and throwing knives constantly ) . graphic engine has been updated and it 's quite smooth ; i do n't find it stuttering nearly as often as it used to . even the story itself has been given a facelift - now there 's more of a cohesive , unified story rather than a series of seemingly disjointed events culminating in your goal in the first place of killing `` x '' person because he did `` y '' . `` eagle vision '' also has some significant improvements , some subtle and some not . for example , in addition to identifying enemies , you 'll actually see faint red lines indicating a guard 's patrol route . this enhances the formulation of tactics . in other cases , where smoke bombs are even more effective at obscuring your enemies ' ability to attack you , `` eagle vision '' will actually allow you to pierce the cloud and attack your enemies at will . in addition , you will be collecting materials to craft a variety of different bombs ( lethal and non-lethal ) . the animations of ezio kill moves are superb and some of his abilities show that ezio , in his twilight years , is deadlier than ever . the music , as always , is very well-done and the voice acting is even better than usual . the beginning of the game reminds me of matrix revolutions , but i do mean this in a good way.the environments are breathtakingly beautiful . the game has departed from italy and finds itself in constantinople , once the true crossroads of the world between europe and asia when the united states was still a mere 264 years away from declaring its own independence . ezio finds himself with new equipment ( the hook blade is fun opening a variety of attacks as well as an ability to zip line around your environment - fantastic ! ) , friends ( including a romantic interest ) , and actually enters into the conflict politically - it 's no longer a mere templar/assassin conflict . there are layers to appreciate here as ezio makes an ally and as i am starting to delve into it , i truly appreciate what ubisoft has created here.if there is one thing that i have to complain about , it 's the mode where you have to defend your own assassin 's keeps in addition to creating them for those of you familiar with brotherhood . it becomes a `` tower defense '' game at this point ... and i do n't mean that in a flattering way . it 's one thing that ubisoft could have omitted ( or seriously improved upon ) without impacting the story whatsoever . it comes off as a silly gimmick that did n't appear to have been given a significant amount of thought in terms of how it flows with the rest of the interlocking parts . this is an oprhan 301st piece in a 300-piece puzzle ; it does n't fit and , quite honestly , you do n't really need it to complete the experience.i have n't had a chance to explore multiplayer too much , but what i 've seen so far seems to indicate that ubisoft has taken the best parts of brotherhood and have added both modes and additional customization not seen before . i 'm more into the story then the multiplayer , but revelations has shown me enough to convince me to give it a try ... later . assassin 's creed is still , first and foremost , about continuing a quite fascinating story . and the final chapter to the overall story arc ( with ezio 's presumably ending here , if rumors are believed ) is to come in yet a single year , although how ubisoft plans to bring this epic to a conclusion in the absence of such a strong character like ezio has my curiosity piqued.despite the fault of `` tower defense '' , everything else is so vastly improved that i still have to give it a solid 4.75 stars ( 5 stars on the amazon scale - do n't think it deserves a 4 ) . enough said - get it and enjoy !\n",
      "\n",
      "ID:  A17NVM7IAPF2NS|B002I08RA0  Review:  first things first -if you have n't played the first assassin 's creed and subsequent releases ( or at least starting with ii , and going forward ) - go no further . do yourself a service and start with ii as a bare minimum and work yourself forward to this , the 3rd in the ezio auditore trilogy . otherwise , you 'll be completely lost.for those of you familiar with the story , you 're going to find ezio auditore in his twilight years on a quest to find altair 's legendary , yet quite well-protected , library . the templars have caught wind of it and ezio is also trying to find his way in to thwart their attempts at worldwide control . this is hardly a spoiler as you 're quickly brought into this within minutes of beginning to play ezio - no further spoilers here.from the standpoint of playing all of the previous assassin 's creed entries , how does this one fare ? well , i finally played it tonight and i must say that it is really quite remarkable . there 's a major change in the way that combat is handled - you select a primary and then a secondary weapon so that you can enter a sword fight and then throw knives at will , for example ( no longer do you have to constantly `` weapon wheel '' between sword and throwing knives constantly ) . graphic engine has been updated and it 's quite smooth ; i do n't find it stuttering nearly as often as it used to . even the story itself has been given a facelift - now there 's more of a cohesive , unified story rather than a series of seemingly disjointed events culminating in your goal in the first place of killing `` x '' person because he did `` y '' . `` eagle vision '' also has some significant improvements , some subtle and some not . for example , in addition to identifying enemies , you 'll actually see faint red lines indicating a guard 's patrol route . this enhances the formulation of tactics . in other cases , where smoke bombs are even more effective at obscuring your enemies ' ability to attack you , `` eagle vision '' will actually allow you to pierce the cloud and attack your enemies at will . in addition , you will be collecting materials to craft a variety of different bombs ( lethal and non-lethal ) . the animations of ezio kill moves are superb and some of his abilities show that ezio , in his twilight years , is deadlier than ever . the music , as always , is very well-done and the voice acting is even better than usual . the beginning of the game reminds me of matrix revolutions , but i do mean this in a good way.the environments are breathtakingly beautiful . the game has departed from italy and finds itself in constantinople , once the true crossroads of the world between europe and asia when the united states was still a mere 264 years away from declaring its own independence . ezio finds himself with new equipment ( the hook blade is fun opening a variety of attacks as well as an ability to zip line around your environment - fantastic ! ) , friends ( including a romantic interest ) , and actually enters into the conflict politically - it 's no longer a mere templar/assassin conflict . there are layers to appreciate here as ezio makes an ally and as i am starting to delve into it , i truly appreciate what ubisoft has created here.if there is one thing that i have to complain about , it 's the mode where you have to defend your own assassin 's keeps in addition to creating them for those of you familiar with brotherhood . it becomes a `` tower defense '' game at this point ... and i do n't mean that in a flattering way . it 's one thing that ubisoft could have omitted ( or seriously improved upon ) without impacting the story whatsoever . it comes off as a silly gimmick that did n't appear to have been given a significant amount of thought in terms of how it flows with the rest of the interlocking parts . this is an oprhan 301st piece in a 300-piece puzzle ; it does n't fit and , quite honestly , you do n't really need it to complete the experience.i have n't had a chance to explore multiplayer too much , but what i 've seen so far seems to indicate that ubisoft has taken the best parts of brotherhood and have added both modes and additional customization not seen before . i 'm more into the story then the multiplayer , but revelations has shown me enough to convince me to give it a try ... later . assassin 's creed is still , first and foremost , about a continuing and quite fascinating story . and the final chapter to the overall story arc ( with ezio 's presumably ending here , if rumors are believed ) is to come in yet a single year , although how ubisoft plans to bring this epic to a conclusion in the absence of such a strong character like ezio has my curiosity piqued.despite the fault of `` tower defense '' , everything else is so vastly improved that i still have to give it a solid 4.75 stars ( 5 stars on the amazon scale - do n't think it deserves a 4 ) . enough said - get it and enjoy !\n",
      "\n",
      "ID:  A279V5A255HGS4|B002I08RA0  Review:  first off , let me say this to put the rest of this review in context : this is not a game you can or should simply pick up off the shelf and start playing , because none of it will make any sense to you . if you have n't played , at the very least , assassin 's creed 2 all the way through , not only will you be completely lost in the story , the controls and combat mechanics will be foreign to you . in fact , the game does n't really even go out of its way to teach you how to play - if you need it , you can press the back button to use the tutorials between scenes , but fans of the series can skip these sequences.that being said , the game itself plays just like the other games : pretty amazing . the graphics are what you 've come to expect , as is the combat . just like brotherhood did with assassin 's creed 2 , revelations picks up right where brotherhood left off with desmond 's plotline ( although not literally minutes later like brotherhood did ) . if you played brotherhood to the end you know of the shocking cliffhanger which i will not reveal here ; this continues to play until its resolution , or at least to the next ac game.desmond is now trapped in the animus ( warning : light spoilers ahead ) , being temporarily subdued because his mind is in danger of collapsing due to the bleeding together of ezio and altair 's memories - remember subject 16 ? therefore , desmond has to finish the memories for clarity 's sake . this takes ezio back to the familiar masayaf to retrieve some of altair 's writings , and further on to the constantinople , every bit as gorgeous as the italian cities in the previous games . ezio by now is becoming an old man , with a graying hair appearing to be in his early 50s , but is still very much a badass ( amusingly , he remarks during an early mission `` this used to be so easy . '' ) later in the game , you play as altair.ezio still controls very much the same as he did in brotherhood , which was similar to assassin 's creed 2. combat is just like it was before , with slightly different animations and styles added to the kills . counter kill is still your best friend , and the ranged weapons are still there . however , there are so many secondary weapons it starts to feel clunky . other than that , there are not many major differences from the other games , as i mentioned in the beginning ; the main purpose of the game seems to be advancing the plot . one new addition is crafting and using bombs , which are useful , but you can still do all the same things you did before for the most part . you can still recruit assassins by jumping in and saving them from guards and having ezio say `` join us , brother '' but there are newer recruitment scenarios added this time . sending your assassins off on missions is also a little meatier than it was in brotherhood , but the mechanics are the same , except now you remove templar influence from mediterranean cities in the process . your notoriety level increasing means templars will attack one of your assassin dens ( taken from templars the same way the borgia strongholds were taken in brotherhood ) , putting you into a tower defense minigame which i do n't particularly care for ... templars attacking in waves of 10 or 15 ? we 've seen ezio do more than that with his eyes closed without breaking a sweat . but if you train the master assassin you leave in charge of the den to the max level of 15 , the den becomes immune to incursion . let 's just say this is a short-term goal of mine in the game.overall i think the game is fantastic . not perfect , but it tries pretty damn hard to be . no , it 's not particularly innovative , yes , you 've played different versions of the same game before . i do n't personally have a problem with this , and i do n't really see why a fan of the series would either ... it 's not broken , why fix it ? you 're playing to see the game to its conclusion and to get more out of something you 've already decided you had a lot of fun with . it certainly does n't stop people from running out to buy the newest version of modern warfare every year , or madden which is only slightly different from last year 's version every year , except this is a different game with a different plot altogether . i do n't see what the big deal is about that . you either thought the previous assassin 's creed games were amazing , like i did , or you do n't . if you fall into the first category , and i 'm going out on a limb to guess most people reading this review are , you 'll love this game .\n",
      "\n",
      "ID:  A1R57N1EIRPGOO|B004YVOCV4  Review:  i am glad to say that ubisoft has not let us down ! this is an excellent addition to the story line with amazing character development . it is great to see ezio really show his wisdom and growth through all of his hardships to this point . the biggest thing that i noticed with ezio this time around is his age , that even in the controls the player can feel that ezio has passed his prime . even though he has slowed up , compaired to before , he is still more than able to hold his own . this may be an annoyance for some players but to me it was an excellent addition since ezio is truly the first character i have ever seen grow in age from one chapter to the next.the central story line around desmond continues to grow in both complexity and intrigue . i will not give spoilers but needless to say this chapter sheds massive light on desmond and the ancient civilization . i guess you will have to play to get that story though . my sole piece of advice to to play the desmond side levels back on animus island.the battle system has been improved again allowing for the aggressive player to take control . now with continual take down combos one could possibly get through an entire fight without even being hit ... this is tough.the weapons have improved again ! i am glad that ubisoft is continually improving the weapon selection . this time around they have added the ability to create bombs . needless to say what an addition ; everything from distract to shrapnel . next , the hook blade , what a phenomenal idea . all the extra things one can do to move around the city is great ; catching ledges , zip lining , plus the extension of the jump climb.the notoriety system , i have read several reviews complaining about this , which then leads to the assassin dens and templar lairs . unlike the previous games gaining notoriety is beyond simple in this edition while removing it has become more difficult . logic dictates this so especially when considering the environment this italian is now in , talk about being noticeable . the most annoying thing in this game is that as you purchase stores or landmarks your notoriety goes up . again logic dictates that it would , but even so , i think it could have been left off . if you play like i do which is more incognito , being challenged to `` save your den '' is an extremely rare thing.with all of that said , sorry this was long , i greatly enjoyed this chapter and am thoroughly looking forward to the next and most likely final chapter in the series . ubisoft said it would be pointless to have a game that is semi grounded in reality to end after the projected/promised end date in the game . keep in mind this is not a direct quote .\n",
      "\n",
      "ID:  A38VWUJ3G999QS|B004YVOCV4  Review:  lets start with the bottom line : if you were a fan of any of the earlier ac games , you will enjoy ac : r. that said , there are some shortcomings in design that prevent it from being the best in the series.pros : + this game has the best story in the series , tying in the histories of altair , ezio , and desmond . altair 's segments are a nice addition , and the flesh out a good portion of his backstory . the game lives up to its title as there are some very clarifying revelations at the ending , a feature that was sorely missing in the earlier game . for once we are left with less questions than answers . that does n't mean everything is answered , but i think ubisoft montreal did well to set up whatever the next iteration of the series will be.+ the graphics and animations are the best they 've been . locales are prettier , counters are slicker , and the graphics feel more polished overall . the temple runs looking for the library `` keys '' are very well done and include some impressive `` set pieces '' .+ the core gameplay is the same , which is a good thing . you 'll feel right at home if you 've played the earlier games.+ multiplayer is greatly improved over brotherhood , though its still difficult to get a hang of . a small pool of players means you will get matched with experts and this can result in some very lopsided matches.cons : + the game feels much `` smaller '' than earlier games , especially ac : brotherhood . ezio is limited to istanbul , and after having all of rome to explore in ac : b , there seems to be less to do . searching for books is easy . renovating shops is the same . i did n't feel like there was much incentive to search every inch of the map like in earlier games.+ though recruiting assassins is made more interesting through the use of improved story , the mediterranean defense system is awkward and not very rewarding . i did n't even bother `` liberating '' most of the cities and i do n't think i missed anything.+ the den defense mini-game plays like a very clunky tower defense game . it went to lengths to avoid it , it was that dull and unrewarding.+i personally did not like desmond 's side missions . you play in a tron-like world using `` building blocks '' to navigate your way around the mostly blank levels while listening to desmond tell his backstory . i understand the thought behind them and the need to flesh out desmond 's genesis , but the levels are awkward , and you do n't connect with desmond very much . his earlier life could probably deserve its own game , and it is disappointing to see it passed over some quickly and carelessly.like i said at the beginning , if you enjoyed the earlier games , you 'll like this one . the cons are not enough to ruin the game , but they hold it back from being as good as it could be . it is a fitting end to ezio 's story , and sets the stage for desmond & co. to take the next step .\n",
      "\n"
     ]
    }
   ],
   "source": [
    "# Cool example: A17NVM7IAPF2NS|B002I08RR8\n",
    "r = np.random.randint(len(sentences))\n",
    "\n",
    "dbow_sim = model_dbow.docvecs.most_similar(positive=sentences[r][1], topn=5)\n",
    "print('Top 5 similar reviews in dbow to: ', inverted_sentences[sentences[r][1][0]]+'\\n')\n",
    "for x in range(len(dbow_sim)):\n",
    "    print('ID: ', dbow_sim[x][0], ' Review: ',inverted_sentences[dbow_sim[x][0]]+'\\n')"
   ]
  },
  {
   "cell_type": "code",
   "execution_count": 329,
   "metadata": {
    "collapsed": false
   },
   "outputs": [],
   "source": [
    "def product_similars_model(review_id, number):    \n",
    "    dbow_sim = model_dbow.docvecs.most_similar(positive=[review_id], topn=10000)\n",
    "    print('Top', number, 'similar reviews in dbow to: ', inverted_sentences[review_id]+'\\n')\n",
    "    i = 0\n",
    "    for x in range(len(dbow_sim)):\n",
    "        s = dbow_sim[x][0]\n",
    "        values = s[(s.index('|'))+1:]\n",
    "        if i < number+1:\n",
    "            if values == review_id[(review_id.index('|'))+1:]:\n",
    "                print('ID: ', dbow_sim[x][0], ' Review: ',inverted_sentences[dbow_sim[x][0]]+'\\n')\n",
    "                i = i + 1\n",
    "\n",
    "#dbow_sim = model_dbow.docvecs.most_similar(positive=['A1XCEM1Q832SCG|B0050SYX8W'], topn=400)\n",
    "#print('Top 5 similar reviews in dbow to: ', inverted_sentences['A1XCEM1Q832SCG|B0050SYX8W']+'\\n')\n",
    "#i = 0\n",
    "#for x in range(len(dbow_sim)):\n",
    "#    s = dbow_sim[x][0]\n",
    "#    print(s)\n",
    "#    value = s[(s.index('|'))+1:]\n",
    "#    if i < 11:\n",
    "#        if value == 'B0050SYX8W':\n",
    "#            print('ID: ', dbow_sim[x][0], ' Review: ',inverted_sentences[dbow_sim[x][0]]+'\\n')\n",
    "#            i = i + 1"
   ]
  },
  {
   "cell_type": "code",
   "execution_count": 331,
   "metadata": {
    "collapsed": false
   },
   "outputs": [
    {
     "name": "stdout",
     "output_type": "stream",
     "text": [
      "Top 5 similar reviews in dbow to:  while our family plays kinect games , i personally play action / role-playing games on ps3 . i loved the ps3 exclusives like uncharted , killzone , resistance , but also loved cross-platform games like cod series , battlefield , and especially mass effect 2 and 3. i love the strong stories of mass effect balanced with battle actions , and this is where it leads me to try halo 4.i like the environment in halo 4 very much - space and fantasy worlds . the details are on par with the very best . in the space ship , details including steams / smoke , electrical sparks are all very realistic . for the nature scenes , many of the tree , rock , and plant details are well articulated . animation / frame rate is very smooth . i experienced no lag . the details on the faces of humans are among the best there is . i do , however , feel many of the ship and platform structures and corridors are very similar . this leads me to believe it 's the capacity limitation of the dvd.the sound effect is clear and detailed , and the music score in some scenes are very well done . i frequently slow down to hear the music while enjoy the view ! i played the entire campaign mode to the end . without playing halo 1 to 3 , i obviously do n't have as much of the same sentimental attachment to the characters or their dialogs as those who played the series . ( but i do plan to go back and play the early titles ! ) also i just finished the mass effect series , and are used to being non-linear . none of these justify knocking any stars off . but the one area that did n't get the sentimental feeling that i got from mass effect , is the realistic feelings in the voices that matched the characters . master chief is more robotic which i understand . but for katana , at the beginning her facial expression articulates a great deal ( include frowning ) , but the vocal did not match the facial expressions . again , my bar was raised after playing mass effect 2 and 3 , which both female characters ( e.g. , miranda ) had great matching of facial expressions and feelings in the voice.all in all , i like this kind of fps game , shooting but more in fantasy/sci-fi rather than brutal battle as in cod . its style fits me so i think that 's what matters and it was worth paying the full price . and it 's enough for me to go back to the beginning.i have not tried multi-player mode yet . *side note* while i enjoyed viewing it on a 125 '' hd projection screen and 50 '' led hdtv , the best experience i had playing this is actually ongaems halo unsc vanguard personal gaming environment ( xbox not included )\n",
      "\n",
      "ID:  A2SFFDZ1QUBL22|B0050SYX8W  Review:  halo 4 is a wonderful addition to the world of halo . it continues the master chief epic with beautiful scenery , fun game play , and a wonderful plot that gets you closer to chief and cortana . multiplayer is fun as well . i find that it is much easier to jump into a game of halo 4 multiplayer and do decently well compared to other shooters . add in the spartan ops and you have multiple fun and challenging ways to spend your time . although i find myself playing a shooter released at a similar time more than halo 4 , i love jumping back in and spending time leveling my spartan in multiplayer . another great thing about halo 4 , was that if you have an american express card you could get statement credits or a coupon at best buy for achievements on halo 4. this made playing the game even more rewarding . lastly , kudos to 343 studios for continuing the excellent job that bungie did on this wonderful xbox platformer . next stop , halo on durango : )\n",
      "\n",
      "ID:  A3KQLF7C15JVJE|B0050SYX8W  Review:  played through campaign , stunning visuals . epic story , ( make sure you get the terminals to see the videos ) . just played through spartan ops ep 1 , i cant believe these are free it is a great add on . keeps the story going\n",
      "\n",
      "ID:  A1I9Z7BQW5ZD0S|B0050SYX8W  Review:  i was skeptical , like most , about buying this game . 1 , because it was made by a new developer and 2 , halo 2 and 3 was a disappointment for me . i did n't like halo 2 at all and halo 3 , although better than 2 , did not live up to the expectations of the very first halo which by far is the best halo in my opinion.i read some reviews for halo 4 and watched some gameplay footage of it on yt . it looked pretty good , but i still was n't sure . i could not rent the game because it would take forever to become available so after a little bit of thought i decided to go to my local game store and plop down the $ 60 bucks it cost . i knew if the game sucked , i would never buy another halo game again and i can just trade it in for credit and use that for black ops 2 instead . it looks like i wo n't need to do that.this game is awesome . i really enjoyed it . although , not to the level of gameplay enjoyment that halo combat evolved had , its still better than 2 and 3. i never played reach so i ca n't compare.the story in this game is very good and so are the graphics . the guns are very nice to use and the controls are very smooth without that jaggyness i felt when i played halo 2. all of the games soundtrack is new but it fits well with the game . the sound effects are very nice and sounds so realistic . if you have surround sound , prepare to be blown away . the covenant look quite different in this version . the small ones do n't speak english anymore , or at least i could not hear it . the elite look much bigger than before and they too look quite different . matter of fact the only covenant that looks similar to past halo games are the hunters.the new enemies they have , the prometheans , are a much better enemy than the brutes in my opinion and the weapons they have are awesome . yes , you can pick them up and use them along with the covenant weapons although the plasma rifle is not in this version . they have another plasma rifle that is bigger , but still fires automatic rounds.as i said earlier the graphics in this game are absolutely sickening . i did n't know the 360 still had the power to pull off graphics like this . they look very good and there is no frame slow down either . the colors they use are beautiful and the animations are very smooth and almost life like.i do n't want to reveal anything about the story , you just have to check the game out yourself . i recommend renting it first though . even though i took a chance on this game , i am satisfied . it is worth my 60 bucks . i do n't play games online so i ca n't rate that feature . there is also a second disc with the game but i did n't get a chance to check that out either.343 is a good developer so far . i wonder what the next halo game will be like on the next xbox ... ...\n",
      "\n",
      "ID:  A2TWZPSSY63TGK|B0050SYX8W  Review:  halo is a great series and this is up there with the best of the bunch.the graphics that 343 has managed to produce in this game are truly incredible . the textures , color , and lighting are impressive to say the least . the gameplay is fast and the ai is quite intelligent . the cut scenes are truly amazing ... in fact it may trick you into thinking that they are movies instead of cgi rendered scenes.a lot of complaints about this game come from the fact that the gameplay , especially in multiplayer , has changed a bit . however , i feel that this is where the game actually excels . they have taken the suggestions of gamers and incorporated some aspects of cod and battlefield while keeping the integrity and physics of halo . people complain when there is change but i look at this as a step up . remember also , people complained when halo 2 came out , then they complained when halo 3 came out , then reach , etc . the controls are slightly different and the gameplay is tweaked but i look at these changes as upgrades . you may have to change your game a bit , especially if you are a competitive multiplayer person but if you were good playing halo 3 multiplayer , you can easily make the transition and evolve into the new controls and features.the story is good . it opens up a new chapter in halo and leaves the story wide open for future releases . the actual gameplay is not lengthy but not short either . the co-op play makes the story fly by . there are definitely some challenges in the campaign with intelligent ai especially in legendary mode . if you are planning to tackle the campaign solo in legendary , be prepare for some serious re-spawning.this halo does have a new ranking system which allows you to purchase improvements for your spartan as you level up . these improvements include load-out 's , abilities , etc . however , it is much better than the cod system . in cod , all you have to do to be good is have a lot of time ... as you play , your character becomes more and more powerful , leaving those of us with jobs to get assassinated by invisible super hero level characters . in halo 4 , it still has the arcade aspect so even a beginning player with skills can still be competitive . yes having multiple load-outs and certain powers offers an advantage but not too much of an advantage to make a player dominant simply because of the amount of time spent playing.another feature added to halo 4 is the `` spartan ops , '' which are mini campaign objective based missions . they are a lot of fun and can be challenging . additional chapters for spartan ops have already been released free of charge so the guys at 343 are keeping the game interesting here in its first month.i have played through the campaign once and will certainly play through at least a couple more times . the multiplayer is fast and competitive . the graphics and gameplay are an evolutionary step up from previous versions of halo . this is what i call a `` system , '' game . the game is good enough that it is worth buying a system for it . so , if you were holding off buying the xbox , this game alone may be enough to push you over the edge to buy one .\n",
      "\n",
      "ID:  AD22FWT1UA0XS|B0050SYX8W  Review:  **spoilers** the best halo game of the series . halo 1-3 consisted of pushing back the outbreak of the flood , while halo 4 takes us down a darker path . encountering the prometheans and one of their commanders , the didact , become the major enemy of the game.i like halo 4 over its previous predecessors because it really gives light on the story . halo 1-3 had major loopholes in them for people who did not read the novels , and i was left to having to read online forums to fill in those gaps . halo 4 helps keep a solid story going . there are times where i was wondering about certain facets , but as the story progressed , it shed light on those questions that felt unanswered.halo 4 is a solid 10/10 , and is the best fps i have yet to play . the soundtrack is marvelous . the graphics engine 343 used really showcases what the xbox 360 is really capable of - it reminded me of the cryengine used in crysis 1 & 2 . i never noticed a drop in framerate , and the xbox 360 never once froze during the hours of gameplay . the controller mapping took some getting use to . while the main buttons were still the same , a few of the extra ability buttons were changed around . i did not play multiplayer since i do not have a paid xbox live ! account . aspects of the story reminded me of dead space - dead space had the marker , while halo 4 had the composer.put it simply , the game contained elements that i had never seen halo use before . master chief gains suit abilities that reminded me of when i played metroid prime , and the enemy models used were similar to the ones seen in metroid prime as well . one of the suit abilities obtained was the promethean vision , which was a heat tracking visor for the suit - awesome , loved using it when i could . you also get a chance to pilot a robot , which reminded me of mechassault from the original xbox.finally , and i said it before , the story is what really allowed this game to blossom . i had the chance to see the true relationship between master chief and cortana . as cortana begins to lose her sanity , i saw a side of master chief that he was concerned about her and getting her home safely before the damage was beyond repair . cortana becomes the pillar of morality in the game , which is ironic because she is an ai - it made me recall the novel & # 34 ; do androids dream of electric sheep ? & # 34 ; cortana perseveres and remains faithful to master chief while talking about how bad everyone has treated him over the years and how he deserves more credit than what has been given to him . master chief is a creature of war ; he does his duty with no emotion , but i saw him become emotional in cortana 's conflict with herself . it gave tones of a love story , only it was platonic and transcended levels of transhumanism . the sacrifice that she makes to keep him alive is what makes it all the more touching.all in all , halo 4 can stand on its own two feet just fine , but those who have played 1-3 will have a deeper appreciation for the storyline . i read articles that this is the first game of a new trilogy of halo games ( 5-6 will be released on the xbox one ) , so i am looking forward to playing those when they are released , especially since 343 industries kicked major butt with this release . most games i 've played with multiple sequels have a tendency of a gradual decline , but this game sets the bar to a whole new level .\n",
      "\n",
      "ID:  A1F012AJGE9ATP|B0050SYX8W  Review:  i 've loved halo ever since it first debuted . this installment does n't disappoint in terms of story . its original and deeper than previous halos -- sad , but good . ( cortana is dying ) there are a few things that are confusing in the end , but i wo n't give that away . the chief is more humanized in this storyline . he 's also a bit more chatty than in previous titles . spartan ops replaces fire fight and is more functional as a campaign for your own spartan you create ! this was a really good move on 343 's part as it makes for more replay value.the forerunner weapons tier has been added to make for a 3rd type of weapon system . some have alternate weapon fire modes that increase the impact of the weapon . it may just be my imagination , but the light-based weapons in halo 4 seem a little slow somehow , but still useful . having said that , it may be the fact i have a dsl modem connection and not a fiber-optic that makes on-line play drop frames on occasion . its more noticeable in split-screen than when playing alone but it is there . if you have lightning-fast internet at your location you can really make full use of halo 4 's online capabilities . otherwise , it may be a bit frustrating while battling in the online arena . if anyone else has experienced this , i 'd like to hear from you .\n",
      "\n",
      "Top 5 similar reviews in dbow to:  my son absolutely loves this game . he got this for christmas and he has told me twenty times how much fun it is . he loves the online play with his friends .\n",
      "\n",
      "ID:  A1TXCD0HSTVFAU|B0050SYX8W  Review:  this was a christmas gift for my son . he loved it . it was in great condition and came in early . it was just like it was described .\n",
      "\n",
      "ID:  A4BOLA1TKHPN6|B0050SYX8W  Review:  my oldest son ( 10 ) loves the halo games . he and my other four children play frequently together . at 10 years old he beat the game not too long after receiving it as a gift !\n",
      "\n",
      "ID:  A2BYF3H0VJJ2D1|B0050SYX8W  Review:  my son plays the heck out of these games . , he beats them over and over but still very much enjoys playing them great buy\n",
      "\n",
      "ID:  A21C0WVXN34S6F|B0050SYX8W  Review:  we have the online subscription and my son used a lot , he play standalone or online . he have the last one to and the price at amazon was lees than another store\n",
      "\n",
      "ID:  A2FV22TBLETNGL|B0050SYX8W  Review:  this game is a fun game in story mode and is hours of entertainment in mutiplayer mode . kids love it and so do i ... now i just have to stop getting my butt kicked by my kids\n",
      "\n",
      "ID:  A1PH75710OUMT1|B0050SYX8W  Review:  this is a fun game . i enjoyed playing it ! i would recommend this to anyone who enjoys halo games ! i do wish there was more maps !\n",
      "\n",
      "Top 5 similar reviews in dbow to:  halo 4 is garbage . the last good halo game was halo 2. halo 4 is a pathetic ripoff of cod.black ops ii is garbage as well , but at least zombies is fun .\n",
      "\n",
      "ID:  A24USGOW57621S|B0050SYX8W  Review:  halo 4 is a great game ! it stays true to the story and the franchise . i like the new leveling system , spartan ops are challenging and fun . there is nothing like driving around in a ghost blasting people . this is a great game to own .\n",
      "\n",
      "ID:  AKNJ8VVJ87RV|B0050SYX8W  Review:  halo 3 , odst , wars , and reach sucked . but halo 4 with that great halo : reach graphics and halo 2 's gameplay . a priceless game .\n",
      "\n",
      "ID:  A1J1NCPG87M84I|B0050SYX8W  Review:  obviously they updated the graphics engine because it looks good , but other than that they added 3 new enemy types and a bunch of weapons that look different but play exactly the same as existing ones . the planet that the game takes place on is sterile , lifeless , and dull . the music is horrible . it sounds like it should be in mass effect not halo . the game is just plain boring which is probably the worst thing you could say about a game . plus they decided not to bring back the excellent fire-fight mode from reach and replaced it with 5 minute spartan ops missions which offer nothing new from the campaign . they added one new mode to mp ( dominion ) but they only made 3 maps for it . overall , the game is a huge disappointment and i have no idea how the press gave it such glowing reviews . glad i rented it first .\n",
      "\n",
      "ID:  A3G8B7JI6CTN0F|B0050SYX8W  Review:  halo 4 is an okay installment in the halo franchise . i was n't the biggest fan of the enemies , it felt very stagnant at times . overall it was pretty good .\n",
      "\n",
      "ID:  A132GQLZPBYBGH|B0050SYX8W  Review:  epic game of the year ! master chief is back . graphics to sounds of guns are better than ever . multiplayer fun as hell .\n",
      "\n",
      "ID:  APKVQ4NJS59FR|B0050SYX8W  Review:  this is just like halo 3 , except new maps and the guns are called different things . if you like halo 3 , then this is more of the same .\n",
      "\n"
     ]
    }
   ],
   "source": [
    "product_similars_model('AFNG8O2DXRCUV|B0050SYX8W', 5)\n",
    "product_similars_model('A1XCEM1Q832SCG|B0050SYX8W', 5)\n",
    "product_similars_model('APA6WLVT0ZOL1|B0050SYX8W', 5)"
   ]
  },
  {
   "cell_type": "code",
   "execution_count": 312,
   "metadata": {
    "collapsed": false
   },
   "outputs": [
    {
     "name": "stdout",
     "output_type": "stream",
     "text": [
      "{'reviewerID': 'A3APAEKRHT2QH4', 'asin': 'B0029LJIFG', 'reviewerName': 'Charity Bridenbecker', 'helpful': [0, 0], 'reviewText': 'yeah this was great I got my xbox gold for a year and did not have to leave home works for me no time to go to the store to busy with work school kids and life.', 'overall': 5.0, 'summary': ':)', 'unixReviewTime': 1378857600, 'reviewTime': '09 11, 2013'}\n",
      "{'reviewerID': 'A3APAEKRHT2QH4', 'asin': 'B0037LTTRO', 'reviewerName': 'Charity Bridenbecker', 'helpful': [0, 0], 'reviewText': 'another game that my man enjoys play so much he loves the fact that I got it for him. He looked all over and could not find it he was shocked when he got it for christmas', 'overall': 5.0, 'summary': 'made my man happy', 'unixReviewTime': 1378857600, 'reviewTime': '09 11, 2013'}\n",
      "{'reviewerID': 'A3APAEKRHT2QH4', 'asin': 'B003O6CA64', 'reviewerName': 'Charity Bridenbecker', 'helpful': [0, 1], 'reviewText': 'this was one of the hard to find games that my man looked for for a long time he was happy to get this one under the tree.He has the other two in the series and is glad to now have the whole collection.', 'overall': 5.0, 'summary': 'he loves this game', 'unixReviewTime': 1378857600, 'reviewTime': '09 11, 2013'}\n",
      "{'reviewerID': 'A3APAEKRHT2QH4', 'asin': 'B0050SYLRK', 'reviewerName': 'Charity Bridenbecker', 'helpful': [0, 2], 'reviewText': \"another Christmas gift for the love of my life and he enjoys every minute of it and that's fine by me.\", 'overall': 5.0, 'summary': 'sexy man loved it', 'unixReviewTime': 1378857600, 'reviewTime': '09 11, 2013'}\n",
      "{'reviewerID': 'A3APAEKRHT2QH4', 'asin': 'B0050SYX8W', 'reviewerName': 'Charity Bridenbecker', 'helpful': [0, 0], 'reviewText': 'my sexy man loved his Christmas gift. Now I watch him play all the games he got for Christmas last year.', 'overall': 5.0, 'summary': 'he was happy', 'unixReviewTime': 1378857600, 'reviewTime': '09 11, 2013'}\n"
     ]
    },
    {
     "data": {
      "text/plain": [
       "{'asin': '0700099867',\n",
       " 'helpful': [8, 12],\n",
       " 'overall': 1.0,\n",
       " 'reviewText': 'Installing the game was a struggle (because of games for windows live bugs).Some championship races and cars can only be \"unlocked\" by buying them as an addon to the game. I paid nearly 30 dollars when the game was new. I don\\'t like the idea that I have to keep paying to keep playing.I noticed no improvement in the physics or graphics compared to Dirt 2.I tossed it in the garbage and vowed never to buy another codemasters game. I\\'m really tired of arcade style rally/racing games anyway.I\\'ll continue to get my fix from Richard Burns Rally, and you should to. :)http://www.amazon.com/Richard-Burns-Rally-PC/dp/B000C97156/ref=sr_1_1?ie=UTF8&qid;=1341886844&sr;=8-1&keywords;=richard+burns+rallyThank you for reading my review! If you enjoyed it, be sure to rate it as helpful.',\n",
       " 'reviewTime': '07 9, 2012',\n",
       " 'reviewerID': 'A2HD75EMZR8QLN',\n",
       " 'reviewerName': '123',\n",
       " 'summary': \"Pay to unlock content? I don't think so.\",\n",
       " 'unixReviewTime': 1341792000}"
      ]
     },
     "execution_count": 312,
     "metadata": {},
     "output_type": "execute_result"
    }
   ],
   "source": [
    "for x in range(len(data)):\n",
    "    if data[x]['reviewerID'] == 'A3APAEKRHT2QH4':\n",
    "        print(data[x])\n",
    "#sentences[1000][1]\n",
    "#halo_4[0][1]#['A262YOBA44YU4M|B0050SYX8W']\n",
    "#len(model_dbow)\n",
    "data[0]#['asin']"
   ]
  },
  {
   "cell_type": "code",
   "execution_count": 6,
   "metadata": {
    "collapsed": false
   },
   "outputs": [],
   "source": [
    "import arff"
   ]
  },
  {
   "cell_type": "code",
   "execution_count": 7,
   "metadata": {
    "collapsed": false
   },
   "outputs": [],
   "source": [
    "def vector_arff(labeled_sentences, model, name):\n",
    "    \"\"\"\n",
    "    (LabeledSentences, doc2vec model, string) -> dict\n",
    "    \n",
    "    Requirements: \n",
    "    -All vectors are the same size\n",
    "    \n",
    "    Returns a dictionary ready for arff encoding.\n",
    "    \n",
    "    \"\"\"\n",
    "    \n",
    "    vectors_arff = {}\n",
    "    attributes = []\n",
    "    data_arff = []\n",
    "    \n",
    "    for attribute in range(len(model.docvecs[sentences[0][1][0]])):\n",
    "        attributes.append(tuple(('dim_{}'.format(str(attribute)), 'REAL')))\n",
    "        \n",
    "    for x in range(len(sentences)-1):\n",
    "        vec = []\n",
    "        vec = model.docvecs[sentences[x][1][0]]\n",
    "        vec_list = vec.tolist()\n",
    "        data_arff.append(vec_list)\n",
    "    \n",
    "    vectors_arff['relation'] = name\n",
    "    vectors_arff['attributes'] = attributes\n",
    "    vectors_arff['data'] = data_arff\n",
    "    \n",
    "    return vectors_arff\n",
    "    print('Done')"
   ]
  },
  {
   "cell_type": "code",
   "execution_count": null,
   "metadata": {
    "collapsed": false
   },
   "outputs": [],
   "source": [
    "#pet_arff = vector_arff(sentences, model_dbow, 'pet_amazon')\n",
    "\n",
    "#arff.dump(vector_arff(sentences_10K, model_dbow, 'videogames_amazon'), open('VidGam_rev_10K.arff', 'w'))\n",
    "\n",
    "VidGam_rev_arff_10K = arff.load(open('/data/work/manuel/OpenSubspace/data/VidGam_rev_10K.arff', 'r'))"
   ]
  },
  {
   "cell_type": "markdown",
   "metadata": {},
   "source": [
    "The code to run the Subspace Clustering algorithm from here to the command line looks like this:\n",
    "\n",
    "<code>subprocess.check_output(['java', '-Xmx:memory', '-cp', 'jar location', 'algorithm', -t', 'arff file', 'cluster args'])</code>\n",
    "\n",
    "Some algorithm examples, with parameters and defaults:\n",
    "\n",
    "* *PROCLUS* -K (4), -D (3): In PROCLUS, K and D are pretty self-explanatory, they mean the amount of clusters to find, as well as the average dimentionality of the clusters. It's a fairly quick algorithm, but it requires some knowledge or restriction of the clusters needed.\n",
    "\n",
    "* *CLIQUE* -XI (10), -TAU (1.0): CLIQUE defines a cluster as a connection of grid cells with each more than τ (TAU) many objects. Grid cells are defined by a fixed grid splitting each dimension in ξ (XI) equal width cells.\n",
    "\n",
    "* *MINECLUS* -a (0.08), -b (0.25), -w (0.2), -m (-1), -n (1), -k (5): MINECLUS is an optimization of DOC by using Frequent Pattern trees to improve decision time and accuracy, which is an optimization of CLIQUE itself, by using flexible hypercubes of width _W_ instead of a fixed grid. α (0,1] is the minimun density of the discovered clusters, β (0,1] is a balance condition between the number of points and number of dimensions in a cluster, the measure  M is the MAXOUT parameter, n is the number of bins and k ???"
   ]
  },
  {
   "cell_type": "markdown",
   "metadata": {
    "collapsed": false
   },
   "source": [
    "To work with several parameters, we can run experiments specifying the algorithm and tuning the values as necessary. It may not be intuitive and small changes can mean a large difference."
   ]
  },
  {
   "cell_type": "code",
   "execution_count": null,
   "metadata": {
    "collapsed": false
   },
   "outputs": [],
   "source": [
    "import time\n",
    "start = time.time()\n",
    "proclus_S1500 = subprocess.check_output(['java', '-Xmx2048m', '-cp', '/data/work/manuel/OpenSubspace/*', 'weka/subspaceClusterer/Proclus',\n",
    "                '-t', '/data/work/manuel/OpenSubspace/data/S1500.arff', '-K', '5', '-D', '10' ]).decode()\n",
    "end = time.time()\n",
    "print('Done Proclus in', (end-start)//60 , ' min')\n",
    "\n",
    "start = time.time()\n",
    "clique_S1500 = subprocess.check_output(['java', '-Xmx2048m', '-cp', '/data/work/manuel/OpenSubspace/*', 'weka/subspaceClusterer/Clique',\n",
    "                '-t', '/data/work/manuel/OpenSubspace/data/S1500.arff' ]).decode()\n",
    "end = time.time()\n",
    "print('Done Clique in', (end-start)//60 , ' min')\n",
    "\n",
    "start = time.time()\n",
    "doc_S1500 = subprocess.check_output(['java', '-Xmx2048m', '-cp', '/data/work/manuel/OpenSubspace/*', 'weka/subspaceClusterer/Doc',\n",
    "                '-t', '/data/work/manuel/OpenSubspace/data/S1500.arff' ]).decode()\n",
    "end = time.time()\n",
    "print('Done Doc in', (end-start)//60 , ' min')"
   ]
  },
  {
   "cell_type": "code",
   "execution_count": null,
   "metadata": {
    "collapsed": false
   },
   "outputs": [],
   "source": []
  },
  {
   "cell_type": "code",
   "execution_count": null,
   "metadata": {
    "collapsed": false
   },
   "outputs": [],
   "source": []
  },
  {
   "cell_type": "code",
   "execution_count": null,
   "metadata": {
    "collapsed": false
   },
   "outputs": [],
   "source": [
    "#print(proclus_experiments['proclus_S1500_k3_d5'][4])"
   ]
  },
  {
   "cell_type": "code",
   "execution_count": null,
   "metadata": {
    "collapsed": false
   },
   "outputs": [],
   "source": [
    "XI = [10, 5]\n",
    "TAU = [0.5, 0.49]\n",
    "clique_exp_vidgam = {}\n",
    "algorithm = 'Clique'\n",
    "\n",
    "for i in XI:\n",
    "    for j in TAU:\n",
    "        start = time.time()\n",
    "#        clique_experiments[\"clique_pet_XI{0}_TAU{1}\".format(i,j)] = subprocess.check_output(['java', '-Xmx4096m', '-cp', \n",
    "#                                                                    '/data/work/manuel/OpenSubspace/*', \n",
    "#                                                                    'weka/subspaceClusterer/{0}'.format(algorithm),\n",
    "#                                                                    '-t', '/data/work/manuel/OpenSubspace/data/pet_rev.arff', \n",
    "#                                                                    '-XI', str(i), '-TAU', str(j) ]).decode()\n",
    "        results = []\n",
    "        p = Popen(['java', '-Xmx4096m', '-cp', '/data/work/manuel/OpenSubspace/*', 'weka/subspaceClusterer/{0}'.format(algorithm),\n",
    "                   '-t', '/data/work/manuel/OpenSubspace/data/VidGam_rev.arff', '-XI', str(i), '-TAU', str(j) ], \n",
    "                  stdout=PIPE, stderr=STDOUT)\n",
    "        for line in p.stdout:\n",
    "            results.append(line.decode())\n",
    "        clique_exp_vidgam[\"clique_VidGam_XI{0}_TAU{1}\".format(i,j)] = results\n",
    "        end = time.time()\n",
    "        print('Done {0}_k{1}_d{2}'.format(algorithm,i,j), 'with XI=', i, ', TAU=', j, ' in ', (end-start), ' sec')"
   ]
  },
  {
   "cell_type": "code",
   "execution_count": null,
   "metadata": {
    "collapsed": false
   },
   "outputs": [],
   "source": [
    "ALPHA = [0.001, 0.1, 0.5]\n",
    "BETA = [0.1, 0.4]\n",
    "MAXOUT = [-1, 1]\n",
    "K = [2] #up to 64?\n",
    "numBins = [0.1, 1, 10]\n",
    "W = [0.5, 50, 100]\n",
    "\n",
    "mineclus_exp_pet = {}\n",
    "algorithm = 'MineClus'\n",
    "\n",
    "for i in ALPHA:\n",
    "    for j in BETA:\n",
    "        for k in MAXOUT:\n",
    "            for l in K:\n",
    "                for m in numBins:\n",
    "                    for n in W:\n",
    "                        start = time.time()\n",
    "                #        clique_experiments[\"clique_pet_XI{0}_TAU{1}\".format(i,j)] = subprocess.check_output(['java', '-Xmx4096m', '-cp', \n",
    "                #                                                                    '/data/work/manuel/OpenSubspace/*', \n",
    "                #                                                                    'weka/subspaceClusterer/{0}'.format(algorithm),\n",
    "                #                                                                    '-t', '/data/work/manuel/OpenSubspace/data/pet_rev.arff', \n",
    "                #                                                                    '-XI', str(i), '-TAU', str(j) ]).decode()\n",
    "                        results = []\n",
    "                        p = Popen(['java', '-Xmx4096m', '-cp', '/data/work/manuel/OpenSubspace/*', 'weka/subspaceClusterer/{0}'.format(algorithm),\n",
    "                                   '-t', '/data/work/manuel/OpenSubspace/data/pet_rev.arff', '-a', str(i), '-b', str(j), '-m', str(k), \n",
    "                                   '-k', str(l), '-n', str(m), '-w', str(n)], \n",
    "                                  stdout=PIPE, stderr=STDOUT)\n",
    "                        for line in p.stdout:\n",
    "                            results.append(line.decode())\n",
    "                        mineclus_exp_pet[\"mineclus_pet_{}_{}_{}_{}_{}_{}\".format(i,j,k,l,m,n)] = results\n",
    "                        end = time.time()\n",
    "                        print('Done {}_{}_{}_{}_{}_{}_{}'.format(algorithm,i,j,k,l,m,n), ' in ', (end-start), ' sec')"
   ]
  },
  {
   "cell_type": "code",
   "execution_count": 35,
   "metadata": {
    "collapsed": false
   },
   "outputs": [],
   "source": [
    "def clusters_detail(experiment):\n",
    "    print(experiment[0], 'Number of Clusters', len(experiment)-3)\n",
    "    for i in range(len(experiment)):\n",
    "        s = experiment[i]\n",
    "        if '[' in s:\n",
    "            print('# instances in cluster {}:'.format(i-2), s[(s.index(']')+3):(s.index('{'))])\n",
    "            print('dimensions of clusters:', s[(s.index('[')):(s.index(']')+1)])\n",
    "    print('-'*100)\n",
    "    \n",
    "def clusters_info(experiment):\n",
    "    print(experiment[0], 'Number of Clusters', len(experiment)-3)\n",
    "    dims = []\n",
    "    for i in range(len(experiment)):\n",
    "        s = experiment[i]\n",
    "        if '[' in s:\n",
    "            #print('# instances in cluster {}:'.format(i-2), s[(s.index(']')+3):(s.index('{'))])\n",
    "            dims.append(int((s[(s.index('[')):(s.index(']')+1)]).count('1')))\n",
    "            #dims.append('1')\n",
    "            #print(int((s[(s.index('[')):(s.index(']')+1)]).count('1')))\n",
    "    if dims: print('Average dimensions =', str(round(np.mean(dims), 2)))   \n",
    "    #print('dims=',dims)\n",
    "    print('-'*100)"
   ]
  },
  {
   "cell_type": "code",
   "execution_count": null,
   "metadata": {
    "collapsed": false
   },
   "outputs": [],
   "source": [
    "for key in proclus_pet: clusters_detail(proclus_pet[key])\n",
    "\n",
    "#for key in clique_exp_vidgam: print(key)#clique_exp_vidgam[key])\n",
    "\n",
    "#clusters_in_exp(clique_exp_vidgam['clique_VidGam_XI5_TAU0.49'])\n",
    "\n",
    "\n",
    "#for key in proclus_experiments: print(proclus_experiments[key])\n",
    "#len(proclus_experiments['proclus_S1500_k3_d5'])\n",
    "#for i in range(len(proclus_experiments['proclus_S1500_k3_d5'])):\n",
    "#for key in clique_experiments: print(len(clique_experiments[key]))\n",
    "#3clique_experiments['clique_pet_XI10_TAU0.6'] \n",
    "#clique_experiments['clique_pet_Xi']#[2]#[200:250]"
   ]
  },
  {
   "cell_type": "code",
   "execution_count": null,
   "metadata": {
    "collapsed": false
   },
   "outputs": [],
   "source": [
    "file = 'VidGam_rev.arff'\n",
    "k = [6]\n",
    "d = [20, 50, 90]\n",
    "proclus_vg = {}\n",
    "Proclus_Experiment(k, d, proclus_vg, file)"
   ]
  },
  {
   "cell_type": "code",
   "execution_count": 83,
   "metadata": {
    "collapsed": false
   },
   "outputs": [],
   "source": [
    "def Proclus_Experiment(clusters, dimensions, dictionary, dataset):\n",
    "    algorithm = 'Proclus'    \n",
    "    from subprocess import Popen, PIPE, STDOUT\n",
    "    for i in clusters:\n",
    "        for j in dimensions:\n",
    "            start = time.time()\n",
    "            results = []\n",
    "            p = Popen(['java', '-Xmx6g', '-cp', '/data/work/manuel/OpenSubspace/*', \n",
    "                       'weka/subspaceClusterer/{0}'.format(algorithm),\n",
    "                       '-t', '/data/work/manuel/OpenSubspace/data/{}'.format(dataset), \n",
    "                       '-K', str(i), '-D', str(j) ], \n",
    "                       stdout=PIPE, stderr=STDOUT)\n",
    "            for line in p.stdout:\n",
    "                results.append(line.decode())\n",
    "            dictionary[\"exp_k{0}_d{1}\".format(i,j)] = results\n",
    "            end = time.time()\n",
    "            print('Done {0}_k{1}_d{2}'.format(algorithm,i,j), 'with clusters=', i, \n",
    "                  ', dimensions=', j, ' in ', (end-start), ' sec')\n",
    "\n",
    "def Mineclus_Experiment(ALPHA, BETA, MAXOUT, K, numBins, W, dictionary, dataset):    \n",
    "    algorithm = 'MineClus'\n",
    "    for i in ALPHA:\n",
    "        for j in BETA:\n",
    "            for k in MAXOUT:\n",
    "                for l in K:\n",
    "                    for m in numBins:\n",
    "                        for n in W:\n",
    "                            start = time.time()\n",
    "                            results = []\n",
    "                            p = Popen(['java', '-Xmx6g', '-cp', '/data/work/manuel/OpenSubspace/*', \n",
    "                                       'weka/subspaceClusterer/{0}'.format(algorithm),\n",
    "                                       '-t', '/data/work/manuel/OpenSubspace/data/{}'.format(dataset), \n",
    "                                       '-a', str(i), '-b', str(j), '-m', str(k), \n",
    "                                       '-k', str(l), '-n', str(m), '-w', str(n)], \n",
    "                                      stdout=PIPE, stderr=STDOUT)\n",
    "                            for line in p.stdout:\n",
    "                                results.append(line.decode())\n",
    "                            dictionary[\"exp_a{}_b{}_m{}_k{}_n{}_w{}\".format(i,j,k,l,m,n)] = results\n",
    "                            end = time.time()\n",
    "                            print('Done {}_a{}_b{}_m{}_k{}_n{}_w{}'.format(algorithm,i,j,k,l,m,n), ' in ', (end-start), ' sec')\n",
    "\n",
    "def sample_from_cluster(experiment, cluster, size):\n",
    "    s = experiment[cluster+2]\n",
    "    values = s[(s.index('{'))+1:(s.index('}')-1)].split(' ')\n",
    "    sample = []\n",
    "    if size > 0:\n",
    "        for i in range(size): sample.append(int(random.choice(values)))\n",
    "    else:\n",
    "        for i in range(10): sample.append(int(random.choice(values)))\n",
    "    return sample\n",
    "\n",
    "def sample_sentences_from_cluster(experiment, cluster, size):\n",
    "    s = experiment[cluster+2]\n",
    "    values = s[(s.index('{'))+1:(s.index('}')-1)].split(' ')\n",
    "    sample = []\n",
    "    if size > 0:\n",
    "        for i in range(size): \n",
    "            rdm = int(random.choice(values))\n",
    "            sample.append(['Sentence #{}:'.format(i+1), sentences[rdm][1][0], ' '.join(sentences[rdm][0])])\n",
    "    else:\n",
    "        for i in range(10): sample.append('Sentence #{}:'.format(i+1) ,' '.join(sentences[int(random.choice(values))][0]))\n",
    "    return sample"
   ]
  },
  {
   "cell_type": "code",
   "execution_count": null,
   "metadata": {
    "collapsed": false
   },
   "outputs": [],
   "source": [
    "# Verify that arff index is equal to the sentences index, and the review they refer to:\n",
    "print(model_dbow.docvecs[sentences[1][1][0]])\n",
    "print(VidGam_rev_arff['data'][1])\n",
    "sentences[1][0]\n",
    "\n",
    "# Explore details of the clusters\n",
    "#for key in proclus_vg: clusters_detail(proclus_vg[key])\n",
    "clusters_detail(proclus_vg['exp_k6_d50'])"
   ]
  },
  {
   "cell_type": "code",
   "execution_count": null,
   "metadata": {
    "collapsed": false
   },
   "outputs": [],
   "source": [
    "# Check the list of samples, and the sentences\n",
    "sample_proclusk6d50 = sample_from_cluster(proclus_vg['exp_k6_d50'], 0, 10)\n",
    "\n",
    "samples_proclusk6d50 = {}\n",
    "for i in range(6):\n",
    "    samples_proclusk6d50['cluster_{}'.format(i)] = sample_sentences_from_cluster(proclus_vg['exp_k6_d50'], i, 10)\n",
    "    \n",
    "sample_proclusk6d50_0 = sample_sentences_from_cluster(proclus_vg['exp_k6_d50'], 0, 10)\n",
    "sample_proclusk6d50_1 = sample_sentences_from_cluster(proclus_vg['exp_k6_d50'], 1, 10)"
   ]
  },
  {
   "cell_type": "code",
   "execution_count": null,
   "metadata": {
    "collapsed": false
   },
   "outputs": [],
   "source": [
    "ALPHA = [0.01]#, 0.1]\n",
    "BETA = [0.2]#, 0.4]\n",
    "MAXOUT = [1]\n",
    "K = [20] #up to 64?\n",
    "numBins = [1]\n",
    "W = [1.5]\n",
    "mineclus_vg10K = {}\n",
    "Mineclus_Experiment(ALPHA, BETA, MAXOUT, K, numBins, W, mineclus_vg10K, 'VidGam_rev_10K.arff')"
   ]
  },
  {
   "cell_type": "code",
   "execution_count": null,
   "metadata": {
    "collapsed": false
   },
   "outputs": [],
   "source": [
    "sample_proclusk6d50_1\n",
    "\n"
   ]
  },
  {
   "cell_type": "code",
   "execution_count": null,
   "metadata": {
    "collapsed": false
   },
   "outputs": [],
   "source": [
    "samples_proclusk6d50['cluster_1']"
   ]
  },
  {
   "cell_type": "code",
   "execution_count": null,
   "metadata": {
    "collapsed": false
   },
   "outputs": [],
   "source": [
    "with open('cluster_samples.json', 'w') as fp:\n",
    "    json.dump(samples_proclusk6d50, fp)\n",
    "\n",
    "with open('cluster_samples.json') as cluster_samples:    \n",
    "    data = json.load(cluster_samples)"
   ]
  },
  {
   "cell_type": "code",
   "execution_count": null,
   "metadata": {
    "collapsed": false
   },
   "outputs": [],
   "source": [
    "from pprint import pprint\n",
    "\n",
    "#pprint(data)"
   ]
  },
  {
   "cell_type": "code",
   "execution_count": 267,
   "metadata": {
    "collapsed": false
   },
   "outputs": [
    {
     "name": "stdout",
     "output_type": "stream",
     "text": [
      "B0009VXBAQ\n",
      "B0015AARJI\n",
      "B00178630A\n",
      "B002VBWIP6\n",
      "B0050SYX8W\n",
      "B007CM0K86\n",
      "B00BGA9WK2\n"
     ]
    }
   ],
   "source": [
    "from collections import defaultdict\n",
    "\n",
    "s = sentences\n",
    "d = defaultdict(list)\n",
    "\n",
    "for i in range(len(sentences)):\n",
    "    s = sentences[i][1][0]\n",
    "    asin = s[(s.index('|')+1):]\n",
    "    d[asin].append(i)\n",
    "\n",
    "for key in d:\n",
    "    if len(d[key]) > 350:\n",
    "        print(key)"
   ]
  },
  {
   "cell_type": "markdown",
   "metadata": {},
   "source": [
    "* B0009VXBAQ - Nintendo Wii\n",
    "* B0015AARJI - PS3 Controller\n",
    "* B00178630A - Diablo III\n",
    "* B002VBWIP6 - \n",
    "* B0050SYX8W - Halo 4"
   ]
  },
  {
   "cell_type": "code",
   "execution_count": 45,
   "metadata": {
    "collapsed": false
   },
   "outputs": [],
   "source": [
    "halo_4 = []\n",
    "for id in d['B0050SYX8W']:\n",
    "    halo_4.append(sentences[id])"
   ]
  },
  {
   "cell_type": "code",
   "execution_count": 50,
   "metadata": {
    "collapsed": false
   },
   "outputs": [
    {
     "data": {
      "text/plain": [
       "True"
      ]
     },
     "execution_count": 50,
     "metadata": {},
     "output_type": "execute_result"
    }
   ],
   "source": [
    "halo_4[400] == sentences[175850]\n",
    "#len(halo_4)"
   ]
  },
  {
   "cell_type": "code",
   "execution_count": 202,
   "metadata": {
    "collapsed": true
   },
   "outputs": [],
   "source": [
    "def vector_arff_sub(labeled_sentences, model, name, start, stop):\n",
    "    \"\"\"\n",
    "    (LabeledSentences, doc2vec model, string) -> dict\n",
    "    \n",
    "    Requirements: \n",
    "    -All vectors are the same size\n",
    "    \n",
    "    Returns a dictionary ready for arff encoding.\n",
    "    \n",
    "    \"\"\"\n",
    "    \n",
    "    vectors_arff = {}\n",
    "    attributes = []\n",
    "    data_arff = []\n",
    "    \n",
    "    for attribute in range(len(model.docvecs[sentences[0][1][0]])):\n",
    "        attributes.append(tuple(('dim_{}'.format(str(attribute)), 'REAL')))\n",
    "        \n",
    "    for x in range(start, stop):\n",
    "        vec = []\n",
    "        vec = model.docvecs[sentences[x][1][0]]\n",
    "        vec_list = vec.tolist()\n",
    "        data_arff.append(vec_list)\n",
    "    \n",
    "    vectors_arff['relation'] = name\n",
    "    vectors_arff['attributes'] = attributes\n",
    "    vectors_arff['data'] = data_arff\n",
    "    \n",
    "    return vectors_arff\n",
    "    print('Done')\n",
    "    \n",
    "def sample_sentences_from_cluster_sub(experiment, cluster, size, sentences):\n",
    "    s = experiment[cluster]\n",
    "    values = s[(s.index('{'))+1:(s.index('}')-1)].split(' ')\n",
    "    sample = []\n",
    "    random_list = random.sample(values, size)\n",
    "    if size > 0:\n",
    "        for x in random_list:\n",
    "            sample.append(['Sentence #{}:'.format(x), sentences[int(x)][1][0], ' '.join(sentences[int(x)][0])])\n",
    "    \n",
    "    #if size > 0:\n",
    "    #    for i in range(size): \n",
    "    #        rdm = int(random.choice(values))\n",
    "    #        sample.append(['Sentence #{}:'.format(i+1), sentences[rdm][1][0], ' '.join(sentences[rdm][0])])\n",
    "    #else:\n",
    "    #    for i in range(10): sample.append('Sentence #{}:'.format(i+1) ,' '.join(sentences[int(random.choice(values))][0]))\n",
    "    return sample"
   ]
  },
  {
   "cell_type": "code",
   "execution_count": 51,
   "metadata": {
    "collapsed": false
   },
   "outputs": [
    {
     "data": {
      "text/plain": [
       "<_io.TextIOWrapper name='halo_4.arff' mode='w' encoding='UTF-8'>"
      ]
     },
     "execution_count": 51,
     "metadata": {},
     "output_type": "execute_result"
    }
   ],
   "source": [
    "#arff.dump(vector_arff(sentences_10K, model_dbow, 'videogames_amazon'), open('VidGam_rev_10K.arff', 'w'))\n",
    "\n",
    "arff.dump(vector_arff_sub(sentences, model_dbow, 'halo_4', 175450, 175850), open('halo_4.arff', 'w'))\n",
    "\n",
    "#halo_4_arff = arff.load(open('/data/work/manuel/OpenSubspace/data/halo_4.arff', 'r'))"
   ]
  },
  {
   "cell_type": "code",
   "execution_count": 210,
   "metadata": {
    "collapsed": false
   },
   "outputs": [
    {
     "name": "stdout",
     "output_type": "stream",
     "text": [
      "Done Proclus_k4_d50 with clusters= 4 , dimensions= 50  in  0.5199093818664551  sec\n",
      "Done Proclus_k4_d75 with clusters= 4 , dimensions= 75  in  0.6405737400054932  sec\n",
      "Done Proclus_k4_d95 with clusters= 4 , dimensions= 95  in  0.7482900619506836  sec\n"
     ]
    }
   ],
   "source": [
    "k = [4]\n",
    "d = [50, 75, 95]\n",
    "proclus_h4 = {}\n",
    "Proclus_Experiment(k, d, proclus_h4, 'halo_4.arff')"
   ]
  },
  {
   "cell_type": "code",
   "execution_count": 42,
   "metadata": {
    "collapsed": false
   },
   "outputs": [
    {
     "name": "stdout",
     "output_type": "stream",
     "text": [
      "[ True  True  True  True  True  True  True  True  True  True  True  True\n",
      "  True  True  True  True  True  True  True  True  True  True  True  True\n",
      "  True  True  True  True  True  True  True  True  True  True  True  True\n",
      "  True  True  True  True  True  True  True  True  True  True  True  True\n",
      "  True  True  True  True  True  True  True  True  True  True  True  True\n",
      "  True  True  True  True  True  True  True  True  True  True  True  True\n",
      "  True  True  True  True  True  True  True  True  True  True  True  True\n",
      "  True  True  True  True  True  True  True  True  True  True  True  True\n",
      "  True  True  True  True]\n"
     ]
    },
    {
     "data": {
      "text/plain": [
       "41693"
      ]
     },
     "execution_count": 42,
     "metadata": {},
     "output_type": "execute_result"
    }
   ],
   "source": [
    "print(model_dbow.docvecs[halo_4[1][1][0]] == halo_4_arff['data'][1])\n",
    "len(halo_4_arff['data'])"
   ]
  },
  {
   "cell_type": "code",
   "execution_count": 215,
   "metadata": {
    "collapsed": false
   },
   "outputs": [
    {
     "name": "stdout",
     "output_type": "stream",
     "text": [
      "Scheme: PROCLUS K=4;D=50\n",
      " Number of Clusters 4\n",
      "Average dimensions = 50.0\n",
      "----------------------------------------------------------------------------------------------------\n",
      "Scheme: PROCLUS K=4;D=75\n",
      " Number of Clusters 4\n",
      "Average dimensions = 75.0\n",
      "----------------------------------------------------------------------------------------------------\n",
      "Scheme: PROCLUS K=4;D=95\n",
      " Number of Clusters 4\n",
      "Average dimensions = 95.0\n",
      "----------------------------------------------------------------------------------------------------\n"
     ]
    }
   ],
   "source": [
    "for key in proclus_h4: clusters_info(proclus_h4[key])"
   ]
  },
  {
   "cell_type": "code",
   "execution_count": 218,
   "metadata": {
    "collapsed": false
   },
   "outputs": [
    {
     "data": {
      "text/plain": [
       "[['Sentence #153:',\n",
       "  'A2QMWLLWU52N7J|B0050SYX8W',\n",
       "  \"awsome great game , love it awsome what can i say ? it 's halo ... ! ! ! ! awsome great game , love it awsome what can i say ? it 's halo ... ! ! ! !\"],\n",
       " ['Sentence #278:',\n",
       "  'A2ADPMDVK2C5JU|B0050SYX8W',\n",
       "  \"i will be brief.great campaign , wicked new promethean enemies , smooth solid online multi-player . i do n't need to say much else about it at this point , everyone else has already enlightened you as to what you are in for.halo 4 is a fantastic game through and through , you really need to check it out and see if it fits your tastes or not . if your on the fence at the very least rent it , but i can safely recommend this to almost anyone who likes the fps genre and has a live account .\"],\n",
       " ['Sentence #297:',\n",
       "  'A2P4QIW2G6U8YZ|B0050SYX8W',\n",
       "  'this is an awesome game , i finally was able to view a video about from where halo originated , so now i know who is master chief and the hole game makes a lot of sense , great graphics'],\n",
       " ['Sentence #65:',\n",
       "  'A3OP7BQ9NP8N5D|B0050SYX8W',\n",
       "  'i like this game a lot . it is a fantastic addition to the franchise . i like that they went with 2 discs instead of scaling back the story or graphics .'],\n",
       " ['Sentence #104:',\n",
       "  'A1D3Z8V0Y1WYVF|B0050SYX8W',\n",
       "  \"343i has pulled off what i thought might have been impossible . they 've improved and added to the halo universe without losing the perfect halo balance . excellent job !\"],\n",
       " ['Sentence #31:',\n",
       "  'A21C0WVXN34S6F|B0050SYX8W',\n",
       "  'we have the online subscription and my son used a lot , he play standalone or online . he have the last one to and the price at amazon was lees than another store'],\n",
       " ['Sentence #129:',\n",
       "  'A10584T58O3B5Y|B0050SYX8W',\n",
       "  'what can i say ? this game is a huge improvement up from reach . it has amazing graphics , sounds , and good replay value . i would recommend this game to people who like fps games and people who say halo is bad because this game stomps black ops 2 in the ground .'],\n",
       " ['Sentence #203:',\n",
       "  'AED24PGN5EZRX|B0050SYX8W',\n",
       "  'i loved this game ! i was a little skeptical of how 343 would do with this but i think they did a great job ! i love the graphics , the story is pretty good , multiplayer is very fun , and spartan ops is a fun part of the game as well .'],\n",
       " ['Sentence #259:',\n",
       "  'AWAOQKXTHKHKJ|B0050SYX8W',\n",
       "  \"this series just keeps getting better and better . only a turd would n't like it . the game delivers fast action and a deep storyline like the original trilogy .\"],\n",
       " ['Sentence #197:',\n",
       "  'A2NJ90P9FFMKEA|B0050SYX8W',\n",
       "  \"this game blows away borderlands 2 and will blow away black ops 2.everything is really fun , but do n't expect the multiplayer to be the traditional halo multiplayer , it has kill cams , weapon load outs , new leveling systems . everything about multiplayer is new.halo is a lot of fun , i 've only played a couple multiplayer games , i mostly been playing the campaign.i think assassins creed 3 , borderlands 2 , and halo 4 are close runners for game of the year edition.amazing game , and a fun campaign with more master chief talking and excellent story .\"]]"
      ]
     },
     "execution_count": 218,
     "metadata": {},
     "output_type": "execute_result"
    }
   ],
   "source": [
    "sample_sentences_from_cluster_sub(proclus_h4['exp_k4_d95'], 2, 10, halo_4)"
   ]
  },
  {
   "cell_type": "code",
   "execution_count": 162,
   "metadata": {
    "collapsed": false
   },
   "outputs": [
    {
     "name": "stdout",
     "output_type": "stream",
     "text": [
      "Done MineClus_a0.01_b0.2_m1_k20_n1_w1.1  in  14.447848558425903  sec\n",
      "Done MineClus_a0.01_b0.4_m1_k20_n1_w1.1  in  12.45397138595581  sec\n"
     ]
    }
   ],
   "source": [
    "ALPHA = [0.01]#, 0.1]\n",
    "BETA = [0.2, 0.4]\n",
    "MAXOUT = [1]\n",
    "K = [20] #up to 64?\n",
    "numBins = [1]\n",
    "W = [1.1]\n",
    "mineclus_h4 = {}\n",
    "Mineclus_Experiment(ALPHA, BETA, MAXOUT, K, numBins, W, mineclus_h4, 'halo_4.arff')"
   ]
  },
  {
   "cell_type": "code",
   "execution_count": 163,
   "metadata": {
    "collapsed": false
   },
   "outputs": [
    {
     "name": "stdout",
     "output_type": "stream",
     "text": [
      "0\n",
      " Number of Clusters 101\n",
      "Average dimensions = 97.3\n",
      "----------------------------------------------------------------------------------------------------\n",
      "0\n",
      " Number of Clusters 86\n",
      "Average dimensions = 98.0\n",
      "----------------------------------------------------------------------------------------------------\n",
      "SC_2: [1 1 1 1 1 1 1 1 1 1 1 1 1 1 1 1 1 1 1 1 1 1 1 1 1 1 1 1 1 1 1 1 1 1 0 1 1 1 1 1 1 1 1 1 1 1 1 1 1 1 1 1 1 1 1 1 1 1 1 1 0 1 1 1 1 1 1 1 1 1 1 1 1 1 1 1 1 1 1 1 1 1 1 1 1 1 1 1 1 1 1 1 1 1 1 1 1 1 1 1 ] #47 {38 97 164 173 41 136 218 259 347 371 378 385 40 125 252 258 321 59 67 156 311 319 346 76 223 370 36 242 368 51 106 209 122 180 296 60 166 205 75 264 309 139 225 304 215 248 288 }\n",
      "\n",
      "SC_2: [1 1 1 1 1 1 1 1 1 1 1 1 1 1 1 1 1 1 1 1 1 1 1 1 1 1 1 1 1 1 1 1 1 1 1 1 1 1 1 1 1 1 1 1 1 1 1 1 1 1 1 1 1 1 1 1 0 1 1 1 1 1 1 1 1 1 1 1 1 1 1 1 1 1 1 1 1 1 1 1 1 1 1 1 1 1 1 1 1 1 1 1 1 1 1 1 1 1 1 1 ] #9 {72 138 157 193 220 225 35 199 372 }\n",
      "\n"
     ]
    }
   ],
   "source": [
    "clusters_info(mineclus_h4['exp_a0.01_b0.2_m1_k20_n1_w1.1'])\n",
    "clusters_info(mineclus_h4['exp_a0.01_b0.4_m1_k20_n1_w1.1'])\n",
    "print(mineclus_h4['exp_a0.01_b0.2_m1_k20_n1_w1.1'][85])\n",
    "print(mineclus_h4['exp_a0.01_b0.4_m1_k20_n1_w1.1'][70])"
   ]
  },
  {
   "cell_type": "code",
   "execution_count": 216,
   "metadata": {
    "collapsed": false
   },
   "outputs": [
    {
     "name": "stdout",
     "output_type": "stream",
     "text": [
      "SC_0: [1 1 1 1 1 1 1 1 1 1 1 1 1 1 1 1 1 1 1 1 1 1 1 1 1 1 1 1 1 1 1 1 1 1 1 1 1 1 1 1 1 1 1 1 1 1 1 1 1 1 1 1 1 1 1 1 1 1 1 1 1 1 1 1 1 1 1 1 1 1 1 1 1 1 1 1 1 1 1 1 1 1 1 1 1 1 1 1 1 1 1 1 1 1 1 1 1 1 1 1 ] #83 {108 232 247 306 390 7 8 14 58 102 104 117 206 216 286 354 361 380 382 388 393 30 66 325 0 70 87 236 335 83 178 256 315 358 32 95 292 356 39 165 381 124 134 340 71 116 161 37 138 177 272 1 3 19 21 80 151 191 202 13 121 369 15 187 353 84 159 348 160 308 322 25 254 310 175 230 345 20 78 332 72 133 162 }\n",
      "\n",
      "[['Sentence #25:',\n",
      "  'A3SUB9214D8AAL|B0050SYX8W',\n",
      "  \"not like the other halo 's story is sloppy along with the game play , slow reaction time with controls , weapons in \"\n",
      "  'game are not that fun to use . head shots do not really matter with lower end weapons.. still takes alot of shots '\n",
      "  'to get the kill .'],\n",
      " ['Sentence #247:',\n",
      "  'A3NC3SGPULMY4Q|B0050SYX8W',\n",
      "  \"having played all the previous halo games and being impressed at what 343 industries did with the original game 's \"\n",
      "  'graphics , i was eager to partake in this new game with wild abandon . i had so totally enjoyed all the aspects of '\n",
      "  \"halo : reach 's solo , co-op , and mulitplayer components that i was excited to see what new adventures lay in \"\n",
      "  'store for me with halo 4. apparently , i missed a memo or something , because my expectations and reality did not '\n",
      "  'gel in the slightest.when you play the new game , you will be amazed at the level of graphic beauty developed for '\n",
      "  \"the game . i do n't even have an hd television and i was blown away - i ca n't wait to see this game on my \"\n",
      "  \"brother-in-law 's 72 '' hd flat screen ! but as you begin to actually play the story , remembering the experiences \"\n",
      "  'you had from the other ones , halo 4 seems rather flat , boring , and confusing . i was unaware that understanding '\n",
      "  'this game required reading all the books , watching all the movies , owning all the trading cards , and basically '\n",
      "  'immersing yourself in all the outside material written and created around the video game stories . too many times , '\n",
      "  \"i was left confused in the game to the point that when the main protagonist was revealed , i had n't a clue as to \"\n",
      "  'what was going on.one of the limitations of the original , one that 343 industries apparently chose to amplify for '\n",
      "  'this game , was that halo has often been a `` run over there , push a button , now run back over here and push '\n",
      "  \"another button , all the while you fight aliens '' kind of a game . in this aspect , halo 4 did not disappoint , \"\n",
      "  \"especially as 343 industries went out of their way to create the highest quality animations for master chief 's \"\n",
      "  'hand and its button pressing abilities . some of the missions were so exhausting to me because once you finished '\n",
      "  'pushing this button or turning on this machine here , you had to go to the other side of the map and do it all over '\n",
      "  'again , often times without any real understanding as to why this particular button needed to be pushed or this '\n",
      "  'particular engine needed to be started.as 343 industries likewise decided to fix firefight mode for us and get rid '\n",
      "  'of it , replacing that with their spartan ops mode , i am perplexed as to how these brief 5 to 10 minute missions '\n",
      "  'compensate for defending against the onslaught of waves of aliens . and while the multiplayer looks amazing , i do '\n",
      "  \"n't see what it is about it that makes it better than earlier versions ( i suppose i 'll have to keep trying it for \"\n",
      "  'a while ) .we all have things that we wish this game could be , i suppose . after 4 years in dead space , i had '\n",
      "  'hoped that master chief and cortana might have a more interesting reason to wake up than the planet requiem . here '\n",
      "  \"'s hoping that after this first outing by 343 industries , halo might adjust itself back to the earlier games and \"\n",
      "  'that this new company will recognize that visually amazing sets and scenes are meaningless without a compelling , '\n",
      "  'comprehensible story .'],\n",
      " ['Sentence #177:',\n",
      "  'A1P5KKPIZKSFN0|B0050SYX8W',\n",
      "  'the best halo out of the entire series . pretty much a die hard halo fan . halo 3 was the reason i even bought an '\n",
      "  \"xbox 360. the graphics are the best i 've ever seen in a console game , not to mention the story . the story is \"\n",
      "  'really quite amazing . i was a little leary about 343 taking over , but ... not only did they appease my doubts , '\n",
      "  'they completely blew me away with what the did with the universe ( forward unto dawn was amazing too btw ) ... ... '\n",
      "  \".. i ca n't wait for the next installments in this iconic series . which is set to debut on the next generation \"\n",
      "  \"xbox as well . i can hardly imagine what they 'll be able to do with technology that is current instead of an aging \"\n",
      "  '7 year old console . great multiplayer and spartan ops is a welcome addition.well done 343i and thank you from the '\n",
      "  \"deepest points in this geeky heart o'mine.c0nflict3d\"],\n",
      " ['Sentence #369:',\n",
      "  'ASPIZKOCJH7QV|B0050SYX8W',\n",
      "  'would have made a great deal of sense for the title of this game . upon release , the multiplayer was just plain '\n",
      "  \"unsatisfactory , although the changes they 've made as of now really have turned that aspect around . they tried a \"\n",
      "  'little too hard to be flashy and really had a lot of gimmicks . the forerunners are just dumb to fight . they have '\n",
      "  'strong weapons , and teleport , but otherwise they just stand still and shoot . whatever the deal is with their '\n",
      "  'shield system is just annoying and they need to have heads where heads should go , on top of the shoulders , not '\n",
      "  'somewhere near the top of a big hump . the elites roll was basically pointless . the didact was not at all imposing '\n",
      "  \", and the final 'battle ? ' was just plain disappointing . i did n't get why they would 've ended it that way.so \"\n",
      "  'they lose a star for not having a clue with multiplayer when they released it with too few playlists , poorly '\n",
      "  'balanced weapons , lowering the skill gap enormously , etc ... and another for what they did with the campaign . i '\n",
      "  'do consider the way spartans play to be an improvement , but the forerunners are lame , and the elites were feeble '\n",
      "  'in comparison with previous titles . you can make an awesome main character all you want , if the opposition is '\n",
      "  \"lame , the game is going to suffer . hopefully there 's an improvement in the next game .\"],\n",
      " ['Sentence #14:',\n",
      "  'AK0JABXV5OEFG|B0050SYX8W',\n",
      "  \"if you like halo get this . it 's amazing what 343industries did with this title . i 'm a big fan of halo and yeah \"\n",
      "  '343 got the jackpot with this game . get it .']]\n",
      "SC_1: [1 1 1 1 1 1 1 1 1 1 1 1 1 1 1 1 1 1 1 1 1 1 1 1 1 1 1 1 1 1 1 1 1 1 1 1 1 1 1 1 1 1 1 1 1 1 1 1 1 1 1 1 1 1 1 1 1 1 1 1 1 1 1 1 1 1 1 1 1 1 1 1 1 1 1 1 1 1 1 1 1 1 1 1 1 1 1 1 1 1 1 1 1 1 1 1 1 1 1 1 ] #165 {46 74 317 12 16 34 65 92 126 137 176 244 266 300 336 342 391 9 26 44 68 73 79 85 89 96 101 120 130 142 146 147 148 149 153 158 168 182 194 195 203 217 219 222 224 226 227 231 234 235 237 238 250 253 255 263 265 270 274 276 277 285 287 294 297 298 312 318 328 331 334 337 339 349 350 363 364 374 375 10 24 273 48 100 326 50 228 373 171 189 389 81 99 211 221 377 2 367 397 23 63 229 53 93 113 28 233 271 94 118 43 54 123 131 132 152 251 260 395 64 77 86 129 140 170 183 201 204 207 239 249 284 302 324 355 359 384 387 105 212 365 35 109 141 145 167 192 172 301 341 88 185 193 55 144 278 155 214 240 47 98 208 283 314 394 }\n",
      "\n",
      "[['Sentence #271:',\n",
      "  'A25BJ6ZTGRNR3L|B0050SYX8W',\n",
      "  'no bungie , not a problem because halo has been taken in a slightly new direction and is beyond amazing . halo 4 is '\n",
      "  'without a doubt the finest installment into the series . multiplayer at its best , stunning graphics , super sound '\n",
      "  'quality , smarter a.i . and many ways to play and further explore the halo universe , what more can any fps fan ask '\n",
      "  'for . im not going to spoil this for any fan new or old but i will say the samething that i said a few years ago , '\n",
      "  'as long as fans still love the series then microsoft will always put out great halo titles for there systems '\n",
      "  'including halo 4. for those older fans such as myself , i knew halo 3 wouldnt be the end of master chief and here '\n",
      "  'we are many years after the first halo and it is still one of the biggest selling video game franchises that has '\n",
      "  'ever been made . dont believe me then pick up halo 4 and expierence the greatness that awaits you .'],\n",
      " ['Sentence #96:',\n",
      "  'A30Q0BTKMPKN0Q|B0050SYX8W',\n",
      "  'campaign - let me start by saying that the campaign has more to do with cortana than it does with master chief and '\n",
      "  \"that 's not a bad thing . from start to finish , this campaign had me hooked . the connection between master chief \"\n",
      "  'and cortana has never been stronger . it has phenominal voice acting and i like all the characters . halo 4 went a '\n",
      "  'step up in storytelling from halo 3 and all the other ones . is this the best halo campaign ? i say it is ; mainly '\n",
      "  'because of cortana and the new enemies , promethians . halo 2 was my favorite halo campaign until i played this . i '\n",
      "  'played this alone on normal difficulty and it took me like six hours to complete . it has eight missions with '\n",
      "  'awesome cutscenes . i actually expected the campaign to be longer , like 10 hours long . there were two out of the '\n",
      "  \"eight missions that i really hated and could n't wait for them to end . will i play this again with my friends on \"\n",
      "  'legendary ? most definitely . i was fine with the playthrough though and the ending of the campaign . what happened '\n",
      "  \"at the end was unexpected , now i ca n't wait for halo 5 's story . killing aliens with the chief has never been \"\n",
      "  'better and i applaude 343 industries for taking the story in a new and promising direction . 100/100 ( a+ ) '\n",
      "  \"graphics - this game has really amazing graphics and really utilizes the 360 's power . this game proves that the \"\n",
      "  \"xbox 360 does n't need a bluray drive to play big games like halo 4. it 's the best looking shooting game i 've \"\n",
      "  \"played on xbox 360. i wo n't go as far to say that the graphics looks better than battlefield 3 , because many \"\n",
      "  \"would argue about that . in my opinion the graphics does looks better than battlefield 3 's because of the \"\n",
      "  'character modeling , the facial motions , and the quality of the cutscenes . look at halo : reach then look at halo '\n",
      "  \"4 , big improvement . best of all , i have n't noticed any tearing or framerate drops . it plays smooth . 100/100 ( \"\n",
      "  'a+ ) gameplay - halo 4 has the best ai . the ai is very entertaining . i love to hear all the alien sounds and '\n",
      "  \"fight a variety of different creatures . halo 4 has this amazing new game mode called `` spartan ops . '' you would \"\n",
      "  \"pretty play different chapters of an episode and there are even new episodes for people to watch . i 've watched \"\n",
      "  'and played two episodes so far with my friends . they were really good . the team at 343 really put hard work in '\n",
      "  \"this mode . it 's pretty much a replacement of firefight . a great replacement . 343 said they will release new \"\n",
      "  'episode every week . so far two have been released and three more are coming . you can have custom loadouts in '\n",
      "  'spartan ops . the gameplay covers many things . you have special abilities , a variety of special weapons , and '\n",
      "  \"cool vehicles . there is not one single flaw in this game 's gameplay and i will never get tired of it . forge is \"\n",
      "  'pretty fun too . 100/100 ( a+ ) multiplayer - the best multiplayer experience to date . call of duty : modern '\n",
      "  'warfare 3 use to have my favorite multiplayer until i played this game . the progression system is better , the '\n",
      "  \"game is still balanced , and now you have custom loadouts . there 's this new thing called an `` ordinace . '' it \"\n",
      "  \"'s pretty much a killstreak reward for when you are doing good , even if you 're just getting assists . when you \"\n",
      "  'get an ordiance , you have three options of what you would like . one thing i hated about halo : reach , you needed '\n",
      "  \"headshots all the time to kill someone . that 's not how it is in halo 4. the game is more competitive and takes \"\n",
      "  \"more skill . i like that . i ca n't help but admit that a lot of aspects were taking from call of duty ; such as \"\n",
      "  \"perks , custom loadouts , killcams , and killstreaks\\\\pointstreaks . this is n't a bad thing to me . i enjoy the \"\n",
      "  'game the multiplayer . as of now , i have a 1.57 kill/death ratio . not bad , not bad at all . play halo online has '\n",
      "  'never been more fun and playing with friends has never been more fun . also , you have a lot of cool spartan '\n",
      "  \"customization . 100/100 ( a+ ) playing time/content : i 'm going to be playing this game every week . it 's too \"\n",
      "  'much fun . spartan ops will keep you entertained and so will the multiplayer . heck , even playing the campaign on '\n",
      "  \"legendary with some friends will keep you entertained . halo 4 provides enough content that does n't make you ask \"\n",
      "  \"for more . i am so addicted right now . i would have paid $ 100 for this game . $ 60 seems like it 's too low of a \"\n",
      "  'price for this game . halo 4ever , until the next one comes out . also , the soundtrack is amazing . i bought that '\n",
      "  \"as well . 100/100 ( a+ ) overall score : 100/100 ( a+ ) do n't know whether to spend $ 60 on black ops ii or halo 4 \"\n",
      "  \"? get halo 4. it 's way better . trust me.+ spartan ops+ graphics+ new multiplayer features+ the story+ master \"\n",
      "  'chief+ file sharing+ enemies+ soundtrack'],\n",
      " ['Sentence #144:',\n",
      "  'AI6F8JF0XTOQJ|B0050SYX8W',\n",
      "  'halo 4 is a great return to the halo series and master chief saga . the story picks up 4 years after the events of '\n",
      "  'halo 3. master chief and his ai companion cortana crash land on an ancient forerunner planet , called requiem . '\n",
      "  \"they discover that there are evils at work amongst the planet and now they 're the only things standing in the way \"\n",
      "  'of massive universal chaos.the game looks great . the multiplayer is solid . and the story is top notch . the only '\n",
      "  'set backs in this game come from the lack of multiplayer uniqueness and diversity . after registering approximately '\n",
      "  '100 hours into the multiplayer , maps become overplayed , bland , and frustratingly repetitive . the artwork is '\n",
      "  'fine , but the aesthetic of the forerunners is very symmetrical and offers nothing mind blowing to the visual '\n",
      "  'appeal of the game.the crimson dlc pack , which launched a month ago , is nearly nonplayable now . for a season '\n",
      "  'pass owner , this renders the additional investment useless as the installed maps on the disk are now running '\n",
      "  'dry.halo 4 is very good , but it quite possibly be the worst halo to date . i recommend grabbing it while there are '\n",
      "  \"frequent price drops and sales . do n't bother with the season pass either .\"],\n",
      " ['Sentence #391:',\n",
      "  'AZZTC2OYVNE2Q|B0050SYX8W',\n",
      "  \"my kids wanted this game badly , but now it is just laying around and they do n't play it anymore after only 2 \"\n",
      "  'weeks !'],\n",
      " ['Sentence #277:',\n",
      "  'A4Y37O2OP7CXE|B0050SYX8W',\n",
      "  'a great addition to my gaming collection , you will enjoy all this game has to offer , the excitement that this '\n",
      "  'game provides is so very amazing !']]\n",
      "SC_2: [1 1 1 1 1 1 1 1 1 1 1 1 1 1 1 1 1 1 1 1 1 1 1 1 1 1 1 1 1 1 1 1 1 1 0 1 1 1 1 1 1 1 1 1 1 1 1 1 1 1 1 1 1 1 1 1 1 1 1 1 0 1 1 1 1 1 1 1 1 1 1 1 1 1 1 1 1 1 1 1 1 1 1 1 1 1 1 1 1 1 1 1 1 1 1 1 1 1 1 1 ] #47 {38 97 164 173 41 136 218 259 347 371 378 385 40 125 252 258 321 59 67 156 311 319 346 76 223 370 36 242 368 51 106 209 122 180 296 60 166 205 75 264 309 139 225 304 215 248 288 }\n",
      "\n",
      "[['Sentence #136:',\n",
      "  'A3656OVSX6TE7H|B0050SYX8W',\n",
      "  'this is a great game , if you like shooter and a good story , this is a must have game , great online game play'],\n",
      " ['Sentence #125:',\n",
      "  'A1WB47B7WKUJ0G|B0050SYX8W',\n",
      "  \"it 's a little short for coop play but still very enjoyable with very good graphics . i hope that 343 continues the \"\n",
      "  'excellent work .'],\n",
      " ['Sentence #370:',\n",
      "  'A10BOZ1ZHLXBBG|B0050SYX8W',\n",
      "  'i was never really into the halo universe until now . the graphics was beautiful , music was epic , and the & # '\n",
      "  '8203 ; soundtrack was awesome . multiplayer is very fun , you get so much content .'],\n",
      " ['Sentence #122:',\n",
      "  'ASO4TOPJ77GG1|B0050SYX8W',\n",
      "  'halo is still halo and this game is a great installment into the halo series . although halo is beginning to lose '\n",
      "  'its luster since it has been pretty much the same since halo : combat evolved the gameplay is still as fun as ever '\n",
      "  '. i would recommend this game if not for the multiplayer to at least play the story since they did an excellent job '\n",
      "  'picking up where halo 3 left off .'],\n",
      " ['Sentence #258:',\n",
      "  'A1T93BEGT4GN37|B0050SYX8W',\n",
      "  'i am one of the 11 year played/read everything halo veterans . i have beaten the campaign on heroic and currently '\n",
      "  'playing it on legendary.campaign : so first thing this campaign is top notch . it is definitely halo quality . '\n",
      "  'there is a great story here ( you have to watch the terminal stories in waypoint ) . the new enemies are a great '\n",
      "  'change of pace and something i think was needed . 343 also did a good job of capturing some of the old halo feel . '\n",
      "  'the level you are riding along with a giant vehicle is one of my favorites . i dont really want to give away much '\n",
      "  'but it is definitely a worthwhile campaign . i cant say it is the best one of all time . first off being that it is '\n",
      "  'a shorter campaign . dont expect halo 3 or reach length of a campaign . also this is not a difficult campaign . '\n",
      "  'there are a couple of difficulty spike points especially when they throw multiple knights at you but other then '\n",
      "  'that it is smooth sailing . there are other things i can say but i wont go into such a deep comparison ... just '\n",
      "  'know that this campaign is worth playing and a good start to a trilogy.spec ops : umm saying it short . this is '\n",
      "  'kind of a waste of time . the 5 very very short episodes add nothing to the game . they are kind of fun but i beat '\n",
      "  'all of them in under an hour playing coop on heroic . maybe after they are all out there will be some good content '\n",
      "  'but for now firefight was a much better option.mulitplayer : more detailedok so this is where my review moves from '\n",
      "  'being a 5 star to being a 4 star review . i will be playing the multiplayer over the next 2 weeks and if my view '\n",
      "  'changes then i will definitely update my score to a 5 for this game ... so first impression.. this is not halo as '\n",
      "  'it has been . that can be good or bad for you . this game has some of the same qualities of halo but it is no were '\n",
      "  \"near as well made as the previous games high standards . high standars being halo 3 if you dont like aa 's or halo \"\n",
      "  ': reach if you do . this game has mixed in way to much call of duty . halo is built on the balance of shields to '\n",
      "  'weapons and the trinity of gun , grenade and melee . halo 4 breaks this to become more dumbed down . yes there are '\n",
      "  'a bunch of unlockables but most of them we just automatically got in reach . so it is a false level system in that '\n",
      "  'sense . plus there are perks like unlimited sprint or faster recharging shields . that breaks the halo mold . now '\n",
      "  'some of my bigger complaints . loadouts i do not like because they take away a fundamental element of halo . '\n",
      "  'finding and picking up other guns . yes there are power weapon drops but they show you where they are ! stupid . '\n",
      "  'flaw of the game , if i have a dmr and a pistol and now i need a plasma pistol to take out this annoying ghost . '\n",
      "  'guess what.. i cant unless i die and change my loadout . another complaint 343 has basically now given me 2 armor '\n",
      "  'abilities that i have to fit on this controller with all the other buttons but i still cant set up my controler '\n",
      "  'exactly how i want it . i have always been able to find a control set up that i like but i am coming up short so '\n",
      "  'far in halo 4. also the hit boxes in this game are ridiculous . i am getting headshots with the pistol without even '\n",
      "  'trying . if i am aimed anywhere near the other players head ... gameover ... ok so i could keep going but i will '\n",
      "  'just say one other thing . from what i can tell so far the melee combat impact in this game has been taken away '\n",
      "  'quite a bit . i could be wrong so let me know if you see it diferently but i dont have to worry about people '\n",
      "  'getting close to me in this game . the melee does not lunge forward like it use to so i dont worry about people '\n",
      "  'trying to get that last hit and i dont use it as much . it is kind of sad because it takes that aggressive play out '\n",
      "  'and changes the halo game . i could be wrong on this and will update over the next few weeks.closing : fantastic '\n",
      "  'campaign and well worth playing for anyone . more casual multiplayer aspect that i am not a huge fan of so far . '\n",
      "  'halo has always been my preference but so far it would not pull me from other mp games.let me know if you have any '\n",
      "  'constructive feedback ! update : campaign : so i finished the game on legendary . more challenging but still not '\n",
      "  \"difficult . so i have noticed a few more things now . this game is still fun but really lacking in `` halo '' \"\n",
      "  \"moments . there is nothing that stands out . there is no `` last night of solace '' or the last stand level of \"\n",
      "  'reach . there is no massive vehicle level or overarching story like in halo 3. there is no detective element with '\n",
      "  'multiple stories coming together in the end like odst . this game has a blandness to it . the enemies are way '\n",
      "  'underdeveloped , the music is under par comparitively and sound effects are just ok. the game is like the chief is '\n",
      "  \"made out to be `` robotic '' and like cortana it is losing itself . in this case the heart of halo . i am not going \"\n",
      "  'to knock it down any further in stars because it is good enough to be 4 stars but never 5. not by a long shot.multi '\n",
      "  ': coming soon.. still not the same as before . nades and melee are weak .']]\n"
     ]
    }
   ],
   "source": [
    "pp = pprint.PrettyPrinter(width=120)\n",
    "\n",
    "print(mineclus_h4['exp_a0.01_b0.2_m1_k20_n1_w1.1'][83])\n",
    "pp.pprint(sample_sentences_from_cluster_sub(mineclus_h4['exp_a0.01_b0.2_m1_k20_n1_w1.1'], 83, 5, halo_4))\n",
    "\n",
    "print(mineclus_h4['exp_a0.01_b0.2_m1_k20_n1_w1.1'][84])\n",
    "pp.pprint(sample_sentences_from_cluster_sub(mineclus_h4['exp_a0.01_b0.2_m1_k20_n1_w1.1'], 84, 5, halo_4))\n",
    "\n",
    "print(mineclus_h4['exp_a0.01_b0.2_m1_k20_n1_w1.1'][85])\n",
    "pp.pprint(sample_sentences_from_cluster_sub(mineclus_h4['exp_a0.01_b0.2_m1_k20_n1_w1.1'], 85, 5, halo_4))\n",
    "\n"
   ]
  },
  {
   "cell_type": "code",
   "execution_count": 151,
   "metadata": {
    "collapsed": false
   },
   "outputs": [
    {
     "name": "stdout",
     "output_type": "stream",
     "text": [
      "[['Sentence #1:', 'A3HKP40VGRAKJL|B0050SYX8W', \"first off.i want to let you know that im not a big halo fan . i played the crap outta the first one , skipped the second one , played even more of the 3rd one as well as odst and reach . i used to be a big halo fan but it seems to me as time went on i started to be more into cod franchise . cod 4 , mw2 , and blops . last year i bought battlefield and have played that solidly for a year.ok so now you know my gaming history for the past years . lets talk about halo 4. i had a big decision this year . i went and bought premium of battlefield ( $ 50-which if youre thinking about picking it up , just buy the 'premium edition ' and you get everything included for $ 60 ) anyway my budget allowed me to get one more game for this year , and it boiled down to halo 4 or blops 2. as some of you could guess by now , halo 4 was my choice . and i am very happy with my decision.i knew blops would disappoint me , especially coming from a such a big fan of bf3- ( seems like you really cant be both a cod fan and bf3 fan-but some of you will probably disagree ) the gameplay is different . i like to have dedicated servers , tactics , brand new engine and class based in a fps , and that is what the game delivers for me . so from that perspective , i picked up halo 4 because i wanted something different . since it came out i havent been able to play any other game . i absolutely love it.it comes with 2 discs . 1 for campaign and the other for mp . the second disc only has the maps for mp so you will have to have the space to dl the maps to your harddrive ( ~8gig ) , once they are downloaded you will only use the 1st disc ( i love this set up , no longer are the days of constant switching of discs regardless of campaigning or mp ) halo 4 has more of a mature feeling about it than previous halo games . i was a little nervous to know that a 3rd party developer would be making the series from this point forward and when i first heard about the next trilogy in the making i was a little skeptic..could they resurrect of a 'dying fps ' ? well the answer is yes ! i am a little short on time so i will just break it down quickly . the graphics on this game is absolutely amazing , it steams from halo 3 engine but 343i was able to tweak it to a way that it looks and feels great , the lighting , shadows , etc look flawlessly on my 60in plasma . the controls are super smooth and the gameplay is particularly enjoyable . it seems to me that 343i have gone thru and redone all the sounds for the weapons and most have a 'throater ' pop when the weapon is shot . very nice.i am a competitive xbl player and i have enjoyed both campaign and mp greatly ! the cut scenes in campaign are so gorgeous its hard to believe that it isnt a movie shot with real people , i cant explain it but you have got to check it out . mp is very competitive . it has leaps and bounds over previous halo mp . you now can sprint using any perk . some say its a futuristic cod..i say its still halo with a hint of cod ( like adding a lime to your coke , its still a coke with a twist ) . if someone quits mid game that spot can be replaced to keep the game going fair . i cant wait for more maps to be released . im a big 4v4 slayer fan and it seems i play the similar maps a great amount . more diversity would be greatly appreciated . but that to me is far from a deal breaker , those objective gametypes are a nice addition and some of them are new to halo ! you now have load outs which can be purchased by in game points that you receive everytime you level up , you can apply these points to gun unlocks , perks , special abilities , armor ( purely cosmetic differences ) , grenades , etc ! if youre somewhat techy like me you would like to know that this game runs at 720p ( thank you for being around forever xbox ) and 30 fps-which the naked eye doesnt see anything more than that anyway..and when explosions happen in the game i havent seen any rendering or chopping issues . altho split screen i did experience some lag , not sure if it were the split of the screen or the connection of that game . also you can play any gametype up to 4 players on the same console for mp ( not sure of campaign ... havent tried ) this is nice considering reach it depended on what gametype you chose to determine how many players can play on the same console ( 2-4 ) . mp connection is a p2p , i wished it had dedicated servers but only experience one game of split screen lag , ( in the dozens of games that i have played so far ) hope this review steers you in the right direction . i try to stay as unbiased as possible , but i feel that this game is the biggest bang for your buck and will keep you interested for a long while . i have to say that 343i has more heart than any other developer that ive seen ... maybe bc this is their first game ? i hope they stay humble.5 stars .\"], ['Sentence #2:', 'A3SUB9214D8AAL|B0050SYX8W', \"not like the other halo 's story is sloppy along with the game play , slow reaction time with controls , weapons in game are not that fun to use . head shots do not really matter with lower end weapons.. still takes alot of shots to get the kill .\"], ['Sentence #3:', 'A1J6WXY7V7JYZL|B0050SYX8W', \"do n't let the bias reviews from fanboys get in your way . this is the worst halo yet . the enemy ai is terrible and spartan ops are all encounters you faced before . they just recycle the same locations over and over with little to no unique gameplay . it 's literally a woman yelling crimson , a couple switches to press b on and the same overdone locations and bad ai . also , the multiplayer is by far the worst in the series . there is killcams to show off how bad the hit detection is . i 've owned every halo and cod to this point and nothing plays this bad . you will literally die and watch the laggy killcam of a guy who shoots you after your around a wall and the redicule will stay red when he is n't even shooting at you . the gimmics that plagued reach are back and worse then ever . you now get two aa as sprint is permanent . they removed strategy by adding instant respawn and removing static weapon spawns . worst is the cluttered gun balance plagued by a 3x zoom primary with massive autoaim , over powered ar , and one shot kill secondary . you at a huge disadvantage to use the br , the staple of halo 2/3 . do n't get me started on the maps . just avoid this game . the most overrated game and even worse than reach which to me was a letdown . this will be my last halo game i purchase . i 'd rate this a 2 out of 10 and the worst halo game to date .\"], ['Sentence #4:', 'A1ZPVW0WXNJ3YZ|B0050SYX8W', \"it 's here . it 's finally here . after what i thought was a disappointment in bungie 's final halo game , halo : reach , 343 industries has taken the helm for a new trilogy . halo 4 takes place after halo 3 , which was released over 5 years ago now . how is this game different ? as far as multiplayer ( that will be the highlight of my review , sorry for the campaign fans ) , 343 has implemented a lot of things from call of duty . do n't let that scare you though if that idea does n't sound good to you -- it works flawlessly in halo 4. while the perks seem to run the multiplayer in call of duty , what truly should be the difference -- the gun -- is what truly matters in halo 4. unlike call of duty , there does n't seem to be any overpowered `` perk '' in this game . some of the guns seem to be excessively powerful , but they all have downfalls . whether that downfall is a small clip or something else , 343 makes sure nothing in the game is gamebreaking , which is impressive . something that should also be noted is that everybody in multiplayer now has the ability to sprint for a limited time , which makes the gameplay faster paced and more frantic . that inclusion , unsurprisingly , only makes this game better.the maps in the multiplayer mostly range from good to fantastic , with not even one map that i would say i truly dislike . the maps here have a vast variety from small to large in size , and snowy to grassy . my personal favorite has to be exile , which is a fairly big map that makes for hectic capture the flag matches , and it just looks and plays phenomenally.if you enjoyed firefight from reach , i 'm sorry to say it 's not returning . instead though , 343 has included spartan ops . in this free mode , content will be released weekly with several episodes for you and your friends to play in . while the missions are fairly entertaining , i 'm not quite sure what the purpose of them is , mainly because they seem to end before you even start going.as for the campaign , i wo n't spoil a thing , but i will tell you that this is probably the best campaign yet in the series . the voice acting is better than ever , the humans ' facial reactions are spot on , and there are -- thankfully -- very few parts in it that are n't fun . i can also tell you that this is one of the hardest campaigns i 've played in a shooter ... at least on its highest difficulty setting , legendary.i tried to keep this review relatively short . there is a lot to say about this game and its contents , but i would n't be able to do the game justice . rather than have you waste 20 minutes reading this review , i 'd rather give you that time to go out and get the game if you have n't already.halo 4 wo n't exactly change the genre , but it has taken the essences of halo 3 and the good portions of halo : reach ( did i mention there 's no armor lock in this game ? ) , and made one of the best online gaming experiences for this generation . it could well be the closest thing you 'll find to xbox live multiplayer gaming nirvana.5/5\"], ['Sentence #5:', 'AKNJ8VVJ87RV|B0050SYX8W', \"halo 3 , odst , wars , and reach sucked . but halo 4 with that great halo : reach graphics and halo 2 's gameplay . a priceless game .\"], ['Sentence #6:', 'A3TJ2K4LP6V71U|B0050SYX8W', \"as a fps , its challenging until the top level , then it begins impossible with constant spawning . the storyline is too limited unlike the previous halos . the gameplay is way too short , getting thru the first three game levels in 32hrs . legendary will take forever.weapon choices are limited where ammo becomes a clutch in top level . what i found to be disturbing were the numerous pay to use downloads . to buy the game at the previous selling price is a no go and waiting for a price drop was a no-brainer.i enjoyed playing thru the first 3 levels but it became so repetitive and boring , that i went back to me3 with the addition of omega download , became more challenging.imho , i was genuinely disappointed with the game as compared to the earlier halos , though the graphics were superior , but that 's it . my next will be farcry 2 , when the price again becomes reasonable .\"], ['Sentence #7:', 'A16H0MIIIBI7VN|B0050SYX8W', \"i had a blast with this game until near the end , when the silly fighter sequence ruined it for me.the new characters are great , and they come with new weapons ( which the user gets to try out ) and fighting tactics.the `` plot '' is mostly the same as the others , and while the cut-scenes are plentiful and ( typically ) boring , they can mostly be bypassed if you prefer . but the out-of-nowhere inclusion of an arcade-like fighter sequence ( reminded me of the very old zaxxon game ) , where things come at you faster and faster while where-to-go-next gets harder and harder to anticipate is about as out-of-place as a `` fighting game '' sequence , which might have actually been kind of cool . the graphics in the fighter sequence also seem zaxxon-cheesy , and you really have to wonder if someone said , `` hey , it 's not quite long enough ; what can we throw in that wo n't cost too much ? ''\"], ['Sentence #8:', 'A26TA02CCYUNFF|B0050SYX8W', \"as an avid fan of the franchise , i had no worries about the quality of halo 4 upon it 's release . the original studio , bungie , had handed down their baby to 343 industries and i honestly can say that they did one damn good job.when you first play this game , you 'll notice it is graphically beautiful . although it is not necessarily a necessity for a good game to have amazing graphics , they definitely did help to the experience.right off the bat , you 'll also notice how different and yet similar the game feels . the game heavily implements tools placed in a previous halo installment , halo reach , and uses them as new mechanics . the game , itself , still returns to it 's roots by feeling like a halo game but it also creates an entirely new experience as well.the singleplayer storyline is rather action-packed and a fulfilling experience . the ending ( no spoilers ) might confuse you a bit but when you think about , it 's a science fiction shooter so do n't be too surprised . masterchief is a little more talkative in this game ( which is unusual ) but it 's nothing too jarring . cortana returns as her lovable self and players really delve into her character and struggles . the difficulties are similar to previous halo games and each one adheres to each playing style.as for multiplayer , halo emphasizes strongly on versus multiplayer as much as it always has . it plays rather well and combat is essentially balanced . players have been arguing and crying out over the superior power of the dmr ( a rifle ) but the game is highly based on player preference in play style.the game modes range all over the place from silly to classical game types on maps that are either came with the disc , dlc , or were made using the forge feature in the game . in the beginning , there were complaints about a lack of diversity in gametypes but 343 industries is really stepping it up . my only complaint is that i miss an old gametype from halo : reach called invasion . it was elites ( alien race ) vs. the spartans ( aka many chiefs ) . they also changed the zombies gametype to flood , which makes sense , but it 's a uneasy transition for silly fans like me.there is also the hallmark to the new halo installment called spartan ops . it 's a cooperative online experience that is released episodically focusing on a story surrounding the chief and what was going on with the other spartans during his epic journey . each episode starts with a five minute cutscene and then allows players to play through the five missions in the episode . some of the missions can feel rather irrelevant but others really push the story forward . it 's a great experience and all of it was free right on release day.regarding dlc , so far there have only been map packs . they implemented a free dlc map called forge island . the name speaks for itself but it 's essentially a map made for players to create anything they want on . the other maps have their features and aspects but they are just maps and do n't necessarily enhance your gaming experience.all in all , if you 're a fan of first person shooters , science fiction , or the halo franchise , i highly suggest you pick up this bad boy as it is a good deal of fun . it definitely sets 343 industries as a driving company for the halo universe and really instills faith back in to the gamers . some may disagree but i 'll be upfront and say that they did a damn good job . it certainly is n't perfectly but it 's definitely worth a look .\"], ['Sentence #9:', 'AQ4NU0Z9RY0RZ|B0050SYX8W', \"after spending several hours this morning playing the game , i 'm slightly mixed with how i feel . note : my first comments below about call of duty is based on black ops , the only call of duty game i own . so references i make are from my experience with that game , and may not work with the modern warfare series as i have no experience there . and as someone pointed in the comments , battlefield is also in the mix as they did some of these things before call of duty . so , while i have play a good assortment of games , my wallet does n't allow for all games haha.campaignthis is what i played a lot to begin with . the campaign adds something the game has been missing for awhile and that 's a new breed of enemies . the past few releases had good storylines , but it was the same enemies . the covenant is still in this game , but the new breed emerges early and adds for a nice change of pace for the series . thus far , 343 industries has done a great job with making the campaign look nice while keeping the gameplay smooth . also , there are new weapons . some are good , some are not that great . but it 's something different and that is what has been missing from the recent releases . the campaign has intrigued me and i 'm interested to see where it goes from here.multiplayer ( you 'll need to install the 2nd disc before you can play ) this is where the game becomes very similar to battlefield/cod . some people will probably think it is a knock off with halo characters . the game adopted their loadout system that allows you to change between a set of primary weapons , secondary weapons , armor bonuses , and other items . these can be set in your start menu and can be swapped around in between respawns . during the game it has that feel of battlefield/cod . it begins with the start of the match with a similar announcer and visual graphics when the match is over . you also now have the ability to drop ordinances when awarded . similar to care package drops . this includes grenades , weapons , power boosts ( increased damage and speed ) and other items . also like those games , you gain credits to buy weapons you can add to your loadouts . purchasing armor is about the same as halo reach , so nothing really new there . aside from the feel of battlefield/cod , the multiplayer still plays very smooth and the new maps are always refreshing . it 's still your well put together halo game that the true fans like myself enjoy.these were the two things i focused on my first go around . when i turned it off , i was semi-happy with my purchase . while the new feel to multiplayer is nice , it far too resembles those games but with halo players . it seems obvious that 343 industries was wanting to pull from the popular franchises . it may be to try and gain some of their faithfuls , but it 's hard to tell if it is going to drive away some true halo fans like myself . time will tell . it may have been a bit too much . in the end , you 'll be able to make your own call on whether it was similar to those games . even the group we play with , who are big halo fans , felt the same way . one made the comment , `` this makes me feel like i should have just waited for black ops 2 to come out . '' probably not what 343 industries was going for .\"], ['Sentence #10:', 'A16H0MIIIBI7VN|B0050SYX8W', \"i had a blast with this game until near the end , when the silly fighter sequence ruined it for me.the new characters are great , and they come with new weapons ( which the user gets to try out ) and fighting tactics.the `` plot '' is mostly the same as the others , and while the cut-scenes are plentiful and ( typically ) boring , they can mostly be bypassed if you prefer . but the out-of-nowhere inclusion of an arcade-like fighter sequence ( reminded me of the very old zaxxon game ) , where things come at you faster and faster while where-to-go-next gets harder and harder to anticipate is about as out-of-place as a `` fighting game '' sequence , which might have actually been kind of cool . the graphics in the fighter sequence also seem zaxxon-cheesy , and you really have to wonder if someone said , `` hey , it 's not quite long enough ; what can we throw in that wo n't cost too much ? ''\"]]\n"
     ]
    }
   ],
   "source": [
    "with open('cluster_halo4.json', 'w') as fp:\n",
    "    json.dump(sample_sentences_from_cluster_sub(mineclus_h4['exp_a0.01_b0.2_m1_k20_n1_w1.1'], 81, 10, halo_4), fp)\n",
    "\n",
    "with open('cluster_halo4.json') as halo4_samples:    \n",
    "    halo4json = json.load(halo4_samples)\n",
    "\n",
    "print(halo4json)"
   ]
  },
  {
   "cell_type": "code",
   "execution_count": 224,
   "metadata": {
    "collapsed": false
   },
   "outputs": [
    {
     "name": "stdout",
     "output_type": "stream",
     "text": [
      "SC_0: [1 1 1 1 1 1 1 1 1 1 1 1 1 1 1 1 1 1 1 1 1 1 1 0 0 1 1 1 1 1 1 1 1 1 1 1 1 1 1 1 1 1 1 1 1 1 1 1 1 1 1 1 1 1 1 1 0 1 1 1 1 1 1 1 1 1 1 1 1 1 1 1 1 1 1 0 1 1 1 1 1 1 1 1 1 1 1 1 1 1 1 1 1 1 1 1 1 1 1 1 ] #111 {0 2 3 5 7 11 15 16 20 21 28 29 31 65 66 70 73 79 80 82 83 85 91 92 94 96 97 102 103 104 106 107 117 123 124 126 128 129 133 134 136 137 141 142 145 146 150 151 153 156 165 167 168 172 173 176 178 182 185 191 192 193 197 200 203 206 210 216 227 228 232 236 243 252 253 258 259 263 270 278 285 286 290 292 295 297 298 307 315 317 318 323 325 326 327 328 329 352 354 355 357 358 360 363 367 371 373 380 390 391 395 }\n",
      "\n",
      "[['Sentence #20:',\n",
      "  'AFNG8O2DXRCUV|B0050SYX8W',\n",
      "  'while our family plays kinect games , i personally play action / role-playing games on ps3 . i loved the ps3 '\n",
      "  'exclusives like uncharted , killzone , resistance , but also loved cross-platform games like cod series , '\n",
      "  'battlefield , and especially mass effect 2 and 3. i love the strong stories of mass effect balanced with battle '\n",
      "  'actions , and this is where it leads me to try halo 4.i like the environment in halo 4 very much - space and '\n",
      "  'fantasy worlds . the details are on par with the very best . in the space ship , details including steams / smoke , '\n",
      "  'electrical sparks are all very realistic . for the nature scenes , many of the tree , rock , and plant details are '\n",
      "  'well articulated . animation / frame rate is very smooth . i experienced no lag . the details on the faces of '\n",
      "  'humans are among the best there is . i do , however , feel many of the ship and platform structures and corridors '\n",
      "  \"are very similar . this leads me to believe it 's the capacity limitation of the dvd.the sound effect is clear and \"\n",
      "  'detailed , and the music score in some scenes are very well done . i frequently slow down to hear the music while '\n",
      "  \"enjoy the view ! i played the entire campaign mode to the end . without playing halo 1 to 3 , i obviously do n't \"\n",
      "  'have as much of the same sentimental attachment to the characters or their dialogs as those who played the series . '\n",
      "  '( but i do plan to go back and play the early titles ! ) also i just finished the mass effect series , and are used '\n",
      "  \"to being non-linear . none of these justify knocking any stars off . but the one area that did n't get the \"\n",
      "  'sentimental feeling that i got from mass effect , is the realistic feelings in the voices that matched the '\n",
      "  'characters . master chief is more robotic which i understand . but for katana , at the beginning her facial '\n",
      "  'expression articulates a great deal ( include frowning ) , but the vocal did not match the facial expressions . '\n",
      "  'again , my bar was raised after playing mass effect 2 and 3 , which both female characters ( e.g. , miranda ) had '\n",
      "  'great matching of facial expressions and feelings in the voice.all in all , i like this kind of fps game , shooting '\n",
      "  \"but more in fantasy/sci-fi rather than brutal battle as in cod . its style fits me so i think that 's what matters \"\n",
      "  \"and it was worth paying the full price . and it 's enough for me to go back to the beginning.i have not tried \"\n",
      "  \"multi-player mode yet . *side note* while i enjoyed viewing it on a 125 '' hd projection screen and 50 '' led hdtv \"\n",
      "  ', the best experience i had playing this is actually ongaems halo unsc vanguard personal gaming environment ( xbox '\n",
      "  'not included )'],\n",
      " ['Sentence #323:',\n",
      "  'A2TKG2HV6WPMPU|B0050SYX8W',\n",
      "  \"i was n't sure what to expect from 343 industries and was n't enamored with the most recent offers of halo odst or \"\n",
      "  'halo reach . halo 4 bring the franchise back to its roots , and raises the bar with new enemies , weapons , shield '\n",
      "  'abilities , and rides ( jet packs , air ships , etc. ) . lots of replayability with new sartan ops game mode , and '\n",
      "  'good multiplayer . must buy for any halo or sci-fi shooter fan .'],\n",
      " ['Sentence #146:',\n",
      "  'AKX9ADNUOCIL0|B0050SYX8W',\n",
      "  \"halo 4 is the best of all the halo 's out there . i cant tell you how much i love this game . halo 4 offers any \"\n",
      "  'thing a halo lover could want . between the spartan opps , matchmakeing , and the good old fashoned campain , this '\n",
      "  'game had everything i hoped for and more . great game ! ! ! ! ! ! !'],\n",
      " ['Sentence #236:',\n",
      "  'A3GU6XY1X68584|B0050SYX8W',\n",
      "  'upgraded graphics engine really shines with the return of master chief . everything about this game is spectacular '\n",
      "  ', a clear improvement and step forward for the franchise .'],\n",
      " ['Sentence #97:',\n",
      "  'A132GQLZPBYBGH|B0050SYX8W',\n",
      "  'epic game of the year ! master chief is back . graphics to sounds of guns are better than ever . multiplayer fun as '\n",
      "  'hell .'],\n",
      " ['Sentence #327:',\n",
      "  'A3KV4PK0Q0X5T6|B0050SYX8W',\n",
      "  'please feel free to verify that i have completed enough of the game to responsibly write a review . xbox live gamer '\n",
      "  \"tag `` apollonius of p '' , i have completed the campaign and all of the spartan ops on legendary , and played pvp \"\n",
      "  'enough to speak to its value.forward : i am mainly an rpg gamer , and i rarely enjoy fps , map based valued games '\n",
      "  'like halo , battlefield and cod for more than the campaign . but this is a huge exception , contrary to other fps '\n",
      "  'games , starting with halo odst and culminating in halo 4 , the halo universe has become very rich and allows for '\n",
      "  'you to delve in wholeheartedly ! campaign : i am completely in love with the new story , 343 industries really put '\n",
      "  'in the time on the story and after some earlier 2012 games that showed just how little a developer can care about '\n",
      "  'their loyal fans concerns ( mass effect 3 ) this was a very nice effort . on legendary i have spent twenty or so '\n",
      "  'hours just getting all of the campaign completed , all of the terminals found and all of the campaign based '\n",
      "  'goodness that is buried in the new story.i want a first time ever in the halo universe . campaign related dlc ! not '\n",
      "  'just map packs , more story related content ... spartan ops : this is the best new feature in my opinion , 10 '\n",
      "  'episodes with 5 chapters each , one new episode releasing every week . if you are not a pvp gamer these are all '\n",
      "  'maps that are just what you are looking for . plus there is a whole separate story occurring that is larger than '\n",
      "  'some other games . i would label this campaign 2 , with your own spartan instead of master chief.this is another '\n",
      "  'place i would like to see more dlc . after the first ten episodes , make ten more please ! war games : not really '\n",
      "  'my thing , but i find it playable and keep going back for more punishment nightly ! i am very pleased with the '\n",
      "  'matchmaking and the new armor mods make the maps way more fun . its a little weird when half of the opposing team '\n",
      "  'has active camouflage equipped , better look closely at every distortion , or death comes often.i feel as though '\n",
      "  '343 truly cares what the fans want , and that they delivered on the fans desires , with no greed on release day . i '\n",
      "  'would say that they clearly delivered more than they had to for the $ 60 price tag , that is fan appreciation '\n",
      "  '101.thank you 343 industries , i appreciate your hard work and continued effort in making the halo universe better '\n",
      "  'with every release !'],\n",
      " ['Sentence #153:',\n",
      "  'A2QMWLLWU52N7J|B0050SYX8W',\n",
      "  \"awsome great game , love it awsome what can i say ? it 's halo ... ! ! ! ! awsome great game , love it awsome what \"\n",
      "  \"can i say ? it 's halo ... ! ! ! !\"],\n",
      " ['Sentence #3:',\n",
      "  'A27R3QXYO6J2A1|B0050SYX8W',\n",
      "  \"i found it odd that `` halo 4 '' explicitly tells players to scavenge weapons from fallen combatants . in later \"\n",
      "  'levels , when combatants are many and dropped weapons are few , the game gives you crate upon crate of grenades and '\n",
      "  'weapons . at some point , the unsc will give master chief a laser gun powered by his armor , making the scavenging '\n",
      "  'of weapons both unnecessary and archaic . yet , placing the strategic choice of weapons in the hands of the player '\n",
      "  \"is a staple of halo games . another staple returning to halo ( and introduced in `` halo 2 '' ) , is the lack of a \"\n",
      "  'health packs . after your shields fall , you can take a few hits while you duck for cover . this system works and '\n",
      "  'keeps the flow of the game moving . ( unlike say , the half-life series , where you would spend half your time '\n",
      "  \"enjoying the game and half your time looking for health and ammo . halo 's musical staple , the dun-dun-dun-dun \"\n",
      "  'guitar riff , was completely absent . in fact , pulse pounding music of any kind was absent , giving a sense of '\n",
      "  'emptiness to many of the early levels . the game also abuses the mechanic of go to several places on the same level '\n",
      "  'and press several buttons . i prefer the old challenges of figuring out how to fit a warthog into a doorway.what '\n",
      "  '343 industries provides is the classic halo fun factor . the pacing is classic halo , i.e . classic bungie . 343 '\n",
      "  \"industries has learned well . to paraphrase sergeant johnson , little ones up front , big one 's in back . and you \"\n",
      "  'can always run past them to the next check point if you like ( or in two levels , fly past them and exit the '\n",
      "  'banshee right at the door ) . the large open levels and different weapons make for lots of replay value . on the '\n",
      "  'subject of weapons , in addition to the favorites , now you have a sticky bomb that explodes when desired , a mirv '\n",
      "  \"like firebomb , a one-shot-one-kill rail gun , and my personal favorite , something called a `` binary rifle '' . \"\n",
      "  'some of the staple weapons ( hah , imagine a weapon that fires staples ) have improved . the dmr has a wonderful '\n",
      "  \"booming sound to accompany it 's deadly head shots . the weapons are fun and fun is good.the story of `` halo 4 '' \"\n",
      "  'is also quite epic . at one point , i was worried 343 industries would give us a cliffhanger ending like the '\n",
      "  \"universally hated ending of `` halo 2 '' . no cliffhanger . to me , 343 industries seemed to reference the ending \"\n",
      "  \"of `` halo 2 '' in making the much better ending of `` halo 4 '' ; this time around , master chief finishes the \"\n",
      "  \"fight . the ending of `` halo 4 '' is also not a total bummer like `` halo : reach '' ( though the lone wolf level \"\n",
      "  \"was a masterpiece to play ) . `` halo 4 '' ultimately gives you sense of success over adversity , although the \"\n",
      "  'quick-time actions ( use left stick , hit left trigger , hit right button ) at the very end is a very un-halo-like '\n",
      "  'way to play . some of the cut scenes are awe-inspiring , and look so good that i trouble telling if they were fully '\n",
      "  'rendered , filmed live or are a mix of live footage and rendered graphics . the bar has been raised.all of this , '\n",
      "  \"and i have not even touched multi-player . multi-player comes on it 's disc now ( like it did with `` halo : odst \"\n",
      "  \"'' and includes episodic content . for xbox 360 owners , `` halo 4 '' is a must have game . likely , if you are \"\n",
      "  'reading this review , you already have it .'],\n",
      " ['Sentence #191:',\n",
      "  'A3HKP40VGRAKJL|B0050SYX8W',\n",
      "  'first off.i want to let you know that im not a big halo fan . i played the crap outta the first one , skipped the '\n",
      "  'second one , played even more of the 3rd one as well as odst and reach . i used to be a big halo fan but it seems '\n",
      "  'to me as time went on i started to be more into cod franchise . cod 4 , mw2 , and blops . last year i bought '\n",
      "  'battlefield and have played that solidly for a year.ok so now you know my gaming history for the past years . lets '\n",
      "  'talk about halo 4. i had a big decision this year . i went and bought premium of battlefield ( $ 50-which if youre '\n",
      "  \"thinking about picking it up , just buy the 'premium edition ' and you get everything included for $ 60 ) anyway my \"\n",
      "  'budget allowed me to get one more game for this year , and it boiled down to halo 4 or blops 2. as some of you '\n",
      "  'could guess by now , halo 4 was my choice . and i am very happy with my decision.i knew blops would disappoint me , '\n",
      "  'especially coming from a such a big fan of bf3- ( seems like you really cant be both a cod fan and bf3 fan-but some '\n",
      "  'of you will probably disagree ) the gameplay is different . i like to have dedicated servers , tactics , brand new '\n",
      "  'engine and class based in a fps , and that is what the game delivers for me . so from that perspective , i picked '\n",
      "  'up halo 4 because i wanted something different . since it came out i havent been able to play any other game . i '\n",
      "  'absolutely love it.it comes with 2 discs . 1 for campaign and the other for mp . the second disc only has the maps '\n",
      "  'for mp so you will have to have the space to dl the maps to your harddrive ( ~8gig ) , once they are downloaded you '\n",
      "  'will only use the 1st disc ( i love this set up , no longer are the days of constant switching of discs regardless '\n",
      "  'of campaigning or mp ) halo 4 has more of a mature feeling about it than previous halo games . i was a little '\n",
      "  'nervous to know that a 3rd party developer would be making the series from this point forward and when i first '\n",
      "  \"heard about the next trilogy in the making i was a little skeptic..could they resurrect of a 'dying fps ' ? well \"\n",
      "  'the answer is yes ! i am a little short on time so i will just break it down quickly . the graphics on this game is '\n",
      "  'absolutely amazing , it steams from halo 3 engine but 343i was able to tweak it to a way that it looks and feels '\n",
      "  'great , the lighting , shadows , etc look flawlessly on my 60in plasma . the controls are super smooth and the '\n",
      "  'gameplay is particularly enjoyable . it seems to me that 343i have gone thru and redone all the sounds for the '\n",
      "  \"weapons and most have a 'throater ' pop when the weapon is shot . very nice.i am a competitive xbl player and i \"\n",
      "  'have enjoyed both campaign and mp greatly ! the cut scenes in campaign are so gorgeous its hard to believe that it '\n",
      "  'isnt a movie shot with real people , i cant explain it but you have got to check it out . mp is very competitive . '\n",
      "  'it has leaps and bounds over previous halo mp . you now can sprint using any perk . some say its a futuristic '\n",
      "  'cod..i say its still halo with a hint of cod ( like adding a lime to your coke , its still a coke with a twist ) . '\n",
      "  'if someone quits mid game that spot can be replaced to keep the game going fair . i cant wait for more maps to be '\n",
      "  'released . im a big 4v4 slayer fan and it seems i play the similar maps a great amount . more diversity would be '\n",
      "  'greatly appreciated . but that to me is far from a deal breaker , those objective gametypes are a nice addition and '\n",
      "  'some of them are new to halo ! you now have load outs which can be purchased by in game points that you receive '\n",
      "  'everytime you level up , you can apply these points to gun unlocks , perks , special abilities , armor ( purely '\n",
      "  'cosmetic differences ) , grenades , etc ! if youre somewhat techy like me you would like to know that this game '\n",
      "  'runs at 720p ( thank you for being around forever xbox ) and 30 fps-which the naked eye doesnt see anything more '\n",
      "  'than that anyway..and when explosions happen in the game i havent seen any rendering or chopping issues . altho '\n",
      "  'split screen i did experience some lag , not sure if it were the split of the screen or the connection of that game '\n",
      "  '. also you can play any gametype up to 4 players on the same console for mp ( not sure of campaign ... havent tried '\n",
      "  ') this is nice considering reach it depended on what gametype you chose to determine how many players can play on '\n",
      "  'the same console ( 2-4 ) . mp connection is a p2p , i wished it had dedicated servers but only experience one game '\n",
      "  'of split screen lag , ( in the dozens of games that i have played so far ) hope this review steers you in the right '\n",
      "  'direction . i try to stay as unbiased as possible , but i feel that this game is the biggest bang for your buck and '\n",
      "  'will keep you interested for a long while . i have to say that 343i has more heart than any other developer that '\n",
      "  'ive seen ... maybe bc this is their first game ? i hope they stay humble.5 stars .'],\n",
      " ['Sentence #326:',\n",
      "  'AOGWV67FEVJM2|B0050SYX8W',\n",
      "  'great buy ! i got it what i thought was used : new ! or it is in such good condition can be considered new ! great '\n",
      "  'buy !'],\n",
      " ['Sentence #182:',\n",
      "  'APEUJS4VGAVLT|B0050SYX8W',\n",
      "  \"awesome game , great quality . shipped on time . just anyway you see it , it 's a great buy . i totally recommend \"\n",
      "  'it .'],\n",
      " ['Sentence #178:',\n",
      "  'A1RSXP7MB772E3|B0050SYX8W',\n",
      "  'i own this game and play it on live with friends who since launch day have tutored me on becoming a better online '\n",
      "  \"player . i 'll try and talk about the mp first . if you own the 4gb kinect ready console you will have to buy \"\n",
      "  \"additional storage . i used a 30gb flashdrive . get disc 2 installed and you can throw it away if you 'd like . dlc \"\n",
      "  'so far must be purchased . that divides the online community . most people use the br for small maps , and use the '\n",
      "  \"dmr for bigger maps . do what you will . i do n't see many people use the plasma pistol for a secondary even though \"\n",
      "  'it disables vehicles , because most people like to charge vehicles and kill the driver by climbing it and '\n",
      "  'performing removal surgery . you wear battle armor and shields , but a melee can insta-kill ; go figure . you can '\n",
      "  'crouch , jump , run , and you must do your best to lower the accuracy of your opponents but most just stride side '\n",
      "  'to side . understanding jump spots and the layout of maps usually is the difference between great players and '\n",
      "  'good.the game has excellent presentations and has some long video to watch . the story is lacking for me . i have '\n",
      "  \"read so many stories filled with the same plot devices that i guess i 'm hard to please . science fiction has \"\n",
      "  'really become less about technology and story telling , and more about how to write epic heroism in war using cool '\n",
      "  \"weapons against aliens races and bad guys . not my bag any more . i 'm worn out.i 'm not disappointed because it is \"\n",
      "  'what it is , another halo game . you get what you ask for as a consumer . people buy these types of games and '\n",
      "  'expect more in the future . the mystery of halo was incredible . what was the halo ring , and who built it ? you '\n",
      "  \"learn how amazing master chief is . but there 's nothing new here .\"],\n",
      " ['Sentence #28:',\n",
      "  'A35S0YEC09W940|B0050SYX8W',\n",
      "  'i was an avid , to say the least , player of halo 3. i played over 8,000 matches & something like 2,000 hours . '\n",
      "  'absolutely loved 3 & when reach came out , was very excited . however , reach was an absolute disappointment for me '\n",
      "  \". now that 's all i 'll say about the previous games , this was just to give you an idea of where i stand with the \"\n",
      "  \"halo 's . as for halo 4.. this game is great . it feels like a combination of the best parts of 3 & reach without \"\n",
      "  \"the reach trash . i mean c'mon , the br 's back but they kept the dmr.. take your pick or pack both ! ! even with \"\n",
      "  'the armor abilities , it feels more like 3 than it does reach though , soooo if you were into reach more than 3.. '\n",
      "  \"that could be a problem for you . the customization for armor & load outs is what i 've always wanted & what reach \"\n",
      "  \"attempted but did n't get quite right . now , a lot of people complain that the sprint & loadouts are too much like \"\n",
      "  'call of duty & i say.. and ? ? since when was that a bad thing ? cods customization is probably the best thing '\n",
      "  'about their games & to integrate that into halo properly is genius ! 343 really did a great job of putting their '\n",
      "  'own little stamp on the halo series & without removing all that bungie did , even building on it . very respectful '\n",
      "  ', very awesome . the campaign is the best one yet , super character & story driven more than ever , and it pays off '\n",
      "  '. beautiful game , the sound , the graphics.. the everything . a ton of fun , with a little familiarity & some new '\n",
      "  '& welcome additions . an obsessed halo 3 fan is very satisfied , that should say enough.- the cobalt colonel , mr '\n",
      "  'ap0ca1ypse .'],\n",
      " ['Sentence #92:',\n",
      "  'A1XCEM1Q832SCG|B0050SYX8W',\n",
      "  'my son absolutely loves this game . he got this for christmas and he has told me twenty times how much fun it is . '\n",
      "  'he loves the online play with his friends .'],\n",
      " ['Sentence #96:',\n",
      "  'A30Q0BTKMPKN0Q|B0050SYX8W',\n",
      "  'campaign - let me start by saying that the campaign has more to do with cortana than it does with master chief and '\n",
      "  \"that 's not a bad thing . from start to finish , this campaign had me hooked . the connection between master chief \"\n",
      "  'and cortana has never been stronger . it has phenominal voice acting and i like all the characters . halo 4 went a '\n",
      "  'step up in storytelling from halo 3 and all the other ones . is this the best halo campaign ? i say it is ; mainly '\n",
      "  'because of cortana and the new enemies , promethians . halo 2 was my favorite halo campaign until i played this . i '\n",
      "  'played this alone on normal difficulty and it took me like six hours to complete . it has eight missions with '\n",
      "  'awesome cutscenes . i actually expected the campaign to be longer , like 10 hours long . there were two out of the '\n",
      "  \"eight missions that i really hated and could n't wait for them to end . will i play this again with my friends on \"\n",
      "  'legendary ? most definitely . i was fine with the playthrough though and the ending of the campaign . what happened '\n",
      "  \"at the end was unexpected , now i ca n't wait for halo 5 's story . killing aliens with the chief has never been \"\n",
      "  'better and i applaude 343 industries for taking the story in a new and promising direction . 100/100 ( a+ ) '\n",
      "  \"graphics - this game has really amazing graphics and really utilizes the 360 's power . this game proves that the \"\n",
      "  \"xbox 360 does n't need a bluray drive to play big games like halo 4. it 's the best looking shooting game i 've \"\n",
      "  \"played on xbox 360. i wo n't go as far to say that the graphics looks better than battlefield 3 , because many \"\n",
      "  \"would argue about that . in my opinion the graphics does looks better than battlefield 3 's because of the \"\n",
      "  'character modeling , the facial motions , and the quality of the cutscenes . look at halo : reach then look at halo '\n",
      "  \"4 , big improvement . best of all , i have n't noticed any tearing or framerate drops . it plays smooth . 100/100 ( \"\n",
      "  'a+ ) gameplay - halo 4 has the best ai . the ai is very entertaining . i love to hear all the alien sounds and '\n",
      "  \"fight a variety of different creatures . halo 4 has this amazing new game mode called `` spartan ops . '' you would \"\n",
      "  \"pretty play different chapters of an episode and there are even new episodes for people to watch . i 've watched \"\n",
      "  'and played two episodes so far with my friends . they were really good . the team at 343 really put hard work in '\n",
      "  \"this mode . it 's pretty much a replacement of firefight . a great replacement . 343 said they will release new \"\n",
      "  'episode every week . so far two have been released and three more are coming . you can have custom loadouts in '\n",
      "  'spartan ops . the gameplay covers many things . you have special abilities , a variety of special weapons , and '\n",
      "  \"cool vehicles . there is not one single flaw in this game 's gameplay and i will never get tired of it . forge is \"\n",
      "  'pretty fun too . 100/100 ( a+ ) multiplayer - the best multiplayer experience to date . call of duty : modern '\n",
      "  'warfare 3 use to have my favorite multiplayer until i played this game . the progression system is better , the '\n",
      "  \"game is still balanced , and now you have custom loadouts . there 's this new thing called an `` ordinace . '' it \"\n",
      "  \"'s pretty much a killstreak reward for when you are doing good , even if you 're just getting assists . when you \"\n",
      "  'get an ordiance , you have three options of what you would like . one thing i hated about halo : reach , you needed '\n",
      "  \"headshots all the time to kill someone . that 's not how it is in halo 4. the game is more competitive and takes \"\n",
      "  \"more skill . i like that . i ca n't help but admit that a lot of aspects were taking from call of duty ; such as \"\n",
      "  \"perks , custom loadouts , killcams , and killstreaks\\\\pointstreaks . this is n't a bad thing to me . i enjoy the \"\n",
      "  'game the multiplayer . as of now , i have a 1.57 kill/death ratio . not bad , not bad at all . play halo online has '\n",
      "  'never been more fun and playing with friends has never been more fun . also , you have a lot of cool spartan '\n",
      "  \"customization . 100/100 ( a+ ) playing time/content : i 'm going to be playing this game every week . it 's too \"\n",
      "  'much fun . spartan ops will keep you entertained and so will the multiplayer . heck , even playing the campaign on '\n",
      "  \"legendary with some friends will keep you entertained . halo 4 provides enough content that does n't make you ask \"\n",
      "  \"for more . i am so addicted right now . i would have paid $ 100 for this game . $ 60 seems like it 's too low of a \"\n",
      "  'price for this game . halo 4ever , until the next one comes out . also , the soundtrack is amazing . i bought that '\n",
      "  \"as well . 100/100 ( a+ ) overall score : 100/100 ( a+ ) do n't know whether to spend $ 60 on black ops ii or halo 4 \"\n",
      "  \"? get halo 4. it 's way better . trust me.+ spartan ops+ graphics+ new multiplayer features+ the story+ master \"\n",
      "  'chief+ file sharing+ enemies+ soundtrack']]\n",
      "SC_1: [1 1 1 1 1 1 1 1 1 1 1 1 1 1 1 1 1 1 1 1 1 0 1 1 0 1 1 1 1 0 1 1 1 1 1 1 1 1 1 1 1 1 1 1 1 1 1 1 1 1 1 1 1 1 1 1 1 1 1 0 1 1 1 1 1 1 1 1 1 1 1 1 1 0 1 1 1 1 1 1 1 1 1 1 1 1 1 1 1 1 1 1 1 1 0 1 1 1 1 1 ] #50 {9 10 26 51 54 60 64 68 77 89 98 100 101 111 115 130 147 152 201 204 217 218 219 222 224 226 231 233 237 238 249 251 265 266 274 276 279 312 331 336 339 341 347 359 370 375 378 384 394 397 }\n",
      "\n",
      "[['Sentence #359:',\n",
      "  'ANFMETZP2OODT|B0050SYX8W',\n",
      "  'whenever a halo is released , there is always something new that makes the atmosphere of the game so amazing ! and '\n",
      "  'there is no better time to get this game than now ! the lowest price to buy this game used is $ 5 and for $ 16 new '\n",
      "  '! ( at the time of this review ) i highly recommend purchasing this game . it is a pretty fun experience , even '\n",
      "  'better with friends ! the campaign is pretty good , the multiplayer is fun , especially with friends ! and who '\n",
      "  'could forget the awesome forge mode that was introduced in halo 3 ?'],\n",
      " ['Sentence #147:',\n",
      "  'A2L17SY3PBBKOA|B0050SYX8W',\n",
      "  \"i 'm a huge halo fanboy so i was alittle concerned when 343 took over but i 'm proud to say they made a fantastic \"\n",
      "  'game . halo 4 is a must have game .'],\n",
      " ['Sentence #279:',\n",
      "  'A3BHLDDEXO8KU7|B0050SYX8W',\n",
      "  'personally , the best game ever . this game is so alike the first one or the & # 34 ; halo aniversary & # 34 ; in '\n",
      "  'so many aspects and of course : & # 34 ; cortana & # 34 ; . halo fans and also shooter games fans will love this '\n",
      "  'game . the graphic details , the locations , the armor , the story , the arsenal , everything , everything is just '\n",
      "  'amazin . just run and get one .'],\n",
      " ['Sentence #98:',\n",
      "  'AILIH92MKDCXE|B0050SYX8W',\n",
      "  \"i love this game so much that words can not express my love for it . i bet i 'll say the same for halo 5 though . i \"\n",
      "  'almost love the campaign more than halo 3 , but i do love the matchmaking and multiplayer more than halo 3. the '\n",
      "  \"campaign is n't the best though , the maps are n't so bad either but i prefer halo 3 's maps .\"],\n",
      " ['Sentence #341:',\n",
      "  'AVAYPIMDXYNRF|B0050SYX8W',\n",
      "  \"i 'd never played much multiplayer halo before , except for a few rounds of halo reach . it was n't that i had \"\n",
      "  \"anything against halo ; it was just something i had n't gotten around to . that all changed the day i played halo 4 \"\n",
      "  \"on my brother 's console . i suddenly understood what all the hype was about . 343 hit a grand-slam with this title \"\n",
      "  '. the gameplay is smooth , exciting , tense and absolutely beautiful to behold . tons of weapons and upgrades . '\n",
      "  \"gameplay types are varied , and maps are good but they could 've added a couple more ( like a volcanic planet map \"\n",
      "  'or a jungle map ) . the voice-over narration during multiplayer is excellent too . make halo 4 the next addition to '\n",
      "  'your library .'],\n",
      " ['Sentence #331:',\n",
      "  'AO9PQQ3KM2Y8T|B0050SYX8W',\n",
      "  'i love this game the greatness of halo 4 cant be measured i love the multiplayer and all of the story and aspartan '\n",
      "  'oppsthis game takes me back to the amazing days of halos 1 2 and 3'],\n",
      " ['Sentence #115:',\n",
      "  'A1DC80RTYVLV66|B0050SYX8W',\n",
      "  'i came late to the halo party being playstation fan for years but after getting an old xbox and playing the 1st two '\n",
      "  'halo games i was hooked ! i then purchased a 360 to get the rest of the halo games , except halo wars . then i got '\n",
      "  \"halo 4 and it is the most magnificent game i 've played yet . the controls , weaponry , & graphics are fine tuned \"\n",
      "  \"and are better than ever ! i 'm currently playing the story/campaign and it is very engaging . i highly recommend \"\n",
      "  'this game for all gamers .'],\n",
      " ['Sentence #370:',\n",
      "  'A10BOZ1ZHLXBBG|B0050SYX8W',\n",
      "  'i was never really into the halo universe until now . the graphics was beautiful , music was epic , and the & # '\n",
      "  '8203 ; soundtrack was awesome . multiplayer is very fun , you get so much content .'],\n",
      " ['Sentence #375:',\n",
      "  'APA6WLVT0ZOL1|B0050SYX8W',\n",
      "  'halo 4 is garbage . the last good halo game was halo 2. halo 4 is a pathetic ripoff of cod.black ops ii is garbage '\n",
      "  'as well , but at least zombies is fun .'],\n",
      " ['Sentence #276:',\n",
      "  'A2IIAQ7VVAHXTD|B0050SYX8W',\n",
      "  'i was pleased with the game , although i still feel halo reach is the best of the series . this will definitely '\n",
      "  'take us on a new path as master chief for the future . i do wish there were more maps for online play however .'],\n",
      " ['Sentence #266:',\n",
      "  'ABUVEZJ9H0FVW|B0050SYX8W',\n",
      "  'my son loves halo and just had to have this . he only played it a few times . not as good as the other halo games . '\n",
      "  'wish i would have waited and got a used copy instead .'],\n",
      " ['Sentence #68:',\n",
      "  'A1PH75710OUMT1|B0050SYX8W',\n",
      "  'this is a fun game . i enjoyed playing it ! i would recommend this to anyone who enjoys halo games ! i do wish '\n",
      "  'there was more maps !'],\n",
      " ['Sentence #312:',\n",
      "  'A3T4PEXRGLWS3P|B0050SYX8W',\n",
      "  'i love this game i have been playing halo for atleast 2 years . this is a really fun game really reccomend i love '\n",
      "  'this game in every way . it is a very fun game i reccomend to all player of halo 3 ] 4'],\n",
      " ['Sentence #219:',\n",
      "  'A2OF39RWPPJNTR|B0050SYX8W',\n",
      "  \"this latest release is a great addition to the halo series . i think it 's one of the best releases yet . i have \"\n",
      "  \"played all the games and find that i like this as well as the first and second releases . it 's a must have for any \"\n",
      "  'true halo fan ! !'],\n",
      " ['Sentence #222:',\n",
      "  'A20CL0YRURMPYQ|B0050SYX8W',\n",
      "  \"if you like the halo series or are new to it , get this game ! it 's fantastic . i bought an xbox just to play it ( \"\n",
      "  \"having played on a friend 's machine ) .\"]]\n",
      "SC_2: [1 1 1 1 1 1 1 1 1 0 1 1 1 0 1 0 1 1 1 1 0 1 1 1 1 1 1 1 1 1 1 1 1 1 1 1 1 1 1 1 1 1 1 1 1 1 1 1 1 1 1 1 1 1 1 1 1 1 1 1 1 1 1 1 1 1 0 1 1 1 1 1 1 1 1 1 1 1 1 0 1 1 1 1 1 1 1 1 1 1 1 1 1 1 1 1 1 1 1 1 ] #51 {8 12 14 32 40 41 43 44 46 50 59 72 81 86 108 112 125 132 138 139 148 149 161 170 183 190 194 215 242 245 250 255 260 273 277 284 288 319 321 324 337 340 342 346 349 361 364 382 387 388 393 }\n",
      "\n",
      "[['Sentence #393:',\n",
      "  'AKNJ8VVJ87RV|B0050SYX8W',\n",
      "  \"halo 3 , odst , wars , and reach sucked . but halo 4 with that great halo : reach graphics and halo 2 's gameplay . \"\n",
      "  'a priceless game .'],\n",
      " ['Sentence #72:',\n",
      "  'A3KQLF7C15JVJE|B0050SYX8W',\n",
      "  'played through campaign , stunning visuals . epic story , ( make sure you get the terminals to see the videos ) . '\n",
      "  'just played through spartan ops ep 1 , i cant believe these are free it is a great add on . keeps the story going'],\n",
      " ['Sentence #43:',\n",
      "  'A14YT8LSE95Q23|B0050SYX8W',\n",
      "  'i have played a couple of missions in the campaign and i kind of disliked the use of all the new futuristic guns . '\n",
      "  'i does not feel like a halo game anymore . i do love the graphics and the multiplayer mode . multiplayer mode still '\n",
      "  'has the load outs and challenges which remind me of playing black ops 2'],\n",
      " ['Sentence #46:',\n",
      "  'A355YWQ2CWZTZ3|B0050SYX8W',\n",
      "  'campaign : the campaign of halo 4 mostly takes place on a forerunner planet called requiem , 4 years after halo 3 '\n",
      "  \"'s ending . the chief and cortana are stranded on their half of the forward unto dawn , and eventually find the \"\n",
      "  'mysterious planet . they crash land onto it , and encounter a hostile faction of the covenant and forerunner '\n",
      "  \"constructs , the prometheans , while trying to figure out what 's going on there . the campaign is excellent , and \"\n",
      "  'is the 2nd best in my opinion , after halo 2. there are 8 missions in it , and each is very unique and fun . the '\n",
      "  \"prometheans are a very interesting class of enemy , and you 'll have to form new strategies to take them down . \"\n",
      "  'some of the covenant also return ( elites , grunts , jackals , and hunters ) , and pretty much fight the same way '\n",
      "  'as they have before . the forerunner weapons are very cool , adding a new element of weapon scavenging to the game '\n",
      "  \". as for the story , i would n't really recommend this to a newcomer of the series , as they wo n't know pretty \"\n",
      "  \"much anything of what 's going on . it 's still really fun , though , so you should n't pass this up . there are \"\n",
      "  \"also new vehicles to drive and fly in the game , but i wo n't ruin the surprise of what they are . the campaign \"\n",
      "  'seems to be more difficult this time around , as the prometheans are very smart and tricky . you can still play '\n",
      "  'with up to 4 people in co-op , which makes for a great time . skulls have also returned , and are available by '\n",
      "  'default . the campaign is a core part of halo 4 , and should not be taken lightly . my only gripe ( and a very '\n",
      "  'small one , mind you ) with the campaign is that it was a bit short for my taste , but it is definitely a 3-time '\n",
      "  'playthrough at the very least ( because of achievements , difficulty , etc. ) . 9.5/10war games ( multiplayer ) : '\n",
      "  'the multiplayer of halo 4 is very unique , in that it is a part of the main story . it takes place on the unsc '\n",
      "  'infinity , a massive starship which is also present in the campaign . you are a spartan-iv recruit , taking part in '\n",
      "  'lifelike combat simulations . the mp is not story-based to a cheesy degree , but it is just a cool little addition '\n",
      "  'to it . before you can play multiplayer , you have to install it for 8 gb from the second disc of halo 4 , which '\n",
      "  'takes about 5 minutes or so . this might be a pain for users with limited storage , but you can pick up a hard '\n",
      "  'drive of flash drive for relatively cheap . many changed have been made for multiplayer , including sprint as a '\n",
      "  \"default ability , perks , and customized classes . do n't worry , it is n't a call of duty clone : 343i did a great \"\n",
      "  'job of keeping it balanced . there are 50 ranks in mp , and after you reach level 50 , you can enlist in a '\n",
      "  'specialization , where you gain a special ability , new armor , and new emblems . each time you level up , you gain '\n",
      "  'one spartan point , which can be used to purchase items for your custom classes . there are many , many things you '\n",
      "  'can buy , including armor ( the changes are purely cosmetic ) , weapons , grenades , and armor abilities . you '\n",
      "  \"unlock all of the weapons fairly quickly , so do n't worry about getting your hands on your battle rifle or dmr . \"\n",
      "  'you also unlock armor by completing commendations , challenges which accumulate across your entire career . some '\n",
      "  \"are very challenging to acquire , but you 'll eventually reap the benefits . there are 10 multiplayer maps , and \"\n",
      "  'all are very aesthetically pleasing and fun to play on . the new game modes are very addicting , like regicide , '\n",
      "  'dominion , and flood . in infinity slayer , the default gametype , you can now call in ordinance drops when you '\n",
      "  'have scored x amount of points , which contain weapons or powerups . these are not overpowered by any means , just '\n",
      "  'a fun reward for your effort . 10/10forge : forge is a game mode where you can edit the maps included with halo 4 , '\n",
      "  'not changing the landscape completely , but placing structures , weapons , and vehicles . this is all done in real '\n",
      "  'time , so you can be working while your friends are goofing around ( a common scenario in my case ) . forge has '\n",
      "  'been made a lot easier for newer forge artists , which allows for so many more creative maps to be made . you can '\n",
      "  \"also edit player trait zones ( i.e . in this area , there 's zero gravity ) and ordinance drops for infinity slayer \"\n",
      "  'modes . all in all , forge is a great mode and only a few problems are present . 9.5/10custom games : custom games '\n",
      "  'have returned , where you can edit and try out your own game modes . you can edit default player traits , starting '\n",
      "  'loadouts , ordinance frequency , and points to win , along with many others . you can also play your game types '\n",
      "  \"with your own forge maps , which makes for some very fun games with friends . there 's not really much else to say \"\n",
      "  \"about custom games except that it 's still awesome . 10/10spartan ops : also present in multiplayer is spartan ops \"\n",
      "  ', a new , weekly-based , episodic continuation of the halo 4 campaign . there are no major spoilers here , so feel '\n",
      "  \"free to start whenever you want to . every week for 10 weeks after halo 4 's launch , 5 misssions are released \"\n",
      "  'which can be played with up to 3 other friends or matchmade for you . you can adjust the difficulty as well . these '\n",
      "  \"missions are short and sweet , and although the story is n't groundbreaking , there 's a wide variety of what you \"\n",
      "  \"and your friends can do . it 's optimal if you play with friends , as it is n't nearly as fun by yourself . \"\n",
      "  \"10/10theater : halo 3 's theater mode has returned , where you can record previous games , take screenshots , save \"\n",
      "  'highlights , and watch the finished product with your friends . it is very easy to use , and you can fly around the '\n",
      "  \"map anytime during the film to check out what 's going on elsewhere . whether you 're watching an awesome game , an \"\n",
      "  \"epic failure , or seeing the enemies ' tactics , it 's a very interesting mode . a major problem with it , however \"\n",
      "  ', is that you can no longer watch or save your campaign footage . this is a major downfall , especially for youtube '\n",
      "  \"channels . it may be released in an update later on , but as of now ( november 10 , 2012 ) , it is n't available . \"\n",
      "  '7/10overview : overall , halo 4 is a fantastic game , keeping the classic halo gameplay while adding new , modern '\n",
      "  \"fps elements to keep up with its contenders , these do n't ruin the game in any way , and only add to the \"\n",
      "  \"already-awesome multiplayer and campaign . it 's certainly worth your money , and is even more fun playing with \"\n",
      "  \"friends . this is probably one of the best games of the year , and that 's really saying something . so go and buy \"\n",
      "  \"this game right now , you certainly wo n't regret it.9.7/10\"],\n",
      " ['Sentence #260:',\n",
      "  'A2U74VFUK2XO3N|B0050SYX8W',\n",
      "  'love the single and multi player . if you like halo and / or fps ( cod , bf , etc ) , this is a great purchase !'],\n",
      " ['Sentence #149:',\n",
      "  'A3HWB36LLQAMXH|B0050SYX8W',\n",
      "  'what a game . if you have not purchased it yet , do not hesitate anymore . the game is amazing ! there seems to be '\n",
      "  'an endless supply of maps , and fun !'],\n",
      " ['Sentence #337:',\n",
      "  'A17NCQVBGFNYLV|B0050SYX8W',\n",
      "  'awesome shooter game for halo fans , and fps fans alike . story is compelling and interesting while the shooting is '\n",
      "  \"fun and exciting . did n't really play multiplayer though\"],\n",
      " ['Sentence #170:',\n",
      "  'AVTCCT91Q6O5N|B0050SYX8W',\n",
      "  \"twenty words when it only takes a few . awesome online , spartan ops keep you busy if you do n't like online . \"\n",
      "  'campaign is long enough to keep you busy for hours . rewards are fun to reach for . just play it ! ! !'],\n",
      " ['Sentence #161:',\n",
      "  'AI92S157QG6NL|B0050SYX8W',\n",
      "  \"i did n't know what to expect from this halo 4. i played halo reach but did not enjoy it . i played halo 4 and i \"\n",
      "  \"love it . it 's very different from what how i last remember it . i love the extra perks , the new weapons , and \"\n",
      "  \"vehicles . it 's much more intense when everyone might be using different perks which give both their own \"\n",
      "  \"advantages . it 's what made this halo much more delightful . i played some of the campaign and the graphics with \"\n",
      "  'the scenery are great as well . i love this halo 4 game more than any other halo . the last halo i loved was halo 2 '\n",
      "  ', and halo 4 definitely tops any other halo published .'],\n",
      " ['Sentence #273:',\n",
      "  'A2PXL83OIAQW2D|B0050SYX8W',\n",
      "  \"it is a known fact that behind a great game there 's a great group of developers who work hard in order to make \"\n",
      "  'games look good and awesome not only in the gameplay mode or graphics but also in the way the story or the game '\n",
      "  \"itself makes you feel ( assassin 's creed iii would be my finest example of that ) . well , without bungie around \"\n",
      "  'to take care of business with halo 4 , the game turned out to be fun but hollow in many other aspects.343 '\n",
      "  \"induestries tried hard ( that 's an obvious statement when you look at the game ) to make this game great and big \"\n",
      "  'but , unfortunely it seems that while they were worried about how a halo game should be , they missed essential '\n",
      "  'features of the halo series to include in this one . the graphics to start with are just ok but not `` halo great '\n",
      "  \"'' as we ( the fans ) were used to since the awesome halo 3 or even reach . for some reason this game looks patched \"\n",
      "  'in that matter . on the other hand , the sound of the guns are pretty weak too . a halo game must make you feel the '\n",
      "  \"adrenaline while you 're pulling the trigger on shotguns , machine guns and even on a magnum but honestly , this is \"\n",
      "  \"not seen in halo 4 , i mean , the sensation of a halo game is just not there anymore . by moments i feel like i 'm \"\n",
      "  \"playing a old version of halo from the previous xbox console ( the one before 360 kicked in ) and that 's a shame \"\n",
      "  \"because i had some good expectations about the game but unfortunely it did n't meet most of them.on the bright side \"\n",
      "  \", i feel that the story is good and the gameplay is still fun but i would 've prefered getting a game that it did \"\n",
      "  \"n't remind me to call of duty.i know i 'm going to play this game until i finish with it but after that i really \"\n",
      "  'doubt that i would feel in the mood to play it again . my personal advice to the people for 343 industries is that '\n",
      "  \"if they 're planning on releasing a halo 5 or 6 in the future they must work harder ... . way harder in graphics \"\n",
      "  \"and sounds because halo 4 should be considered as their lesson on how a `` halo '' game is not meant to \"\n",
      "  'be.additional comments : after playing the whole campaign i must say that i was wrong about my rating of the game . '\n",
      "  \"although i still think that the graphics and the weapon sounds could 've been better , the campaign gets more \"\n",
      "  \"exciting as you move forward . i guess the first couple of stages are n't as exciting as the rest of them . also \"\n",
      "  'the story gets more and more interesting as well . this is the reason why i changed my mind about the rating . '\n",
      "  'bungie might not be around anymore but the fun is still there : )'],\n",
      " ['Sentence #387:',\n",
      "  'A2R2RW4Z4GZ7UZ|B0050SYX8W',\n",
      "  'they really did well with part 4. graphics are great . the multiplayer has almost a halo 3 multiplayer feel which '\n",
      "  'is a great thing . the story has a fresh new approach . 343 really went above and beyond with this one . i am sure '\n",
      "  'this is a better buy then black ops ii so if you have xbox this is a must for this holiday season . it was well '\n",
      "  'worth the wait . not much more can be said besides this has game of the year written all over it ! 5/5'],\n",
      " ['Sentence #321:',\n",
      "  'A1AKL4HCVQ644U|B0050SYX8W',\n",
      "  'my favorite halo game in the series ... multiplayer is well balanced and has a quick and fun pace . campaign is '\n",
      "  'fresh with the new enemies .'],\n",
      " ['Sentence #364:',\n",
      "  'A39R29CPRCMT60|B0050SYX8W',\n",
      "  'halo 4 never heard of game before have great graffats over all the game is not borning some times can lose track of '\n",
      "  'time playing it tho'],\n",
      " ['Sentence #183:',\n",
      "  'A1D44GPY09XLHW|B0050SYX8W',\n",
      "  'i am a huge halo fan and this game is ... amazing ... . i was not disappointed one bit.. from halo ce to halo 4 , '\n",
      "  'they are all good ... . well except for halo wars ...'],\n",
      " ['Sentence #132:',\n",
      "  'A3P0SPSPYR6VLB|B0050SYX8W',\n",
      "  \"if you 're looking for a change of pace from cod then buy this . the big team battle is extremely fun with great \"\n",
      "  'vehicles to use . the mantis is awesome .']]\n",
      "SC_3: [1 0 1 1 1 1 1 1 1 1 1 1 1 1 1 1 1 1 1 1 1 1 1 1 1 1 1 1 1 1 0 1 1 0 1 1 1 1 1 1 1 1 1 1 1 1 1 1 1 1 1 1 1 1 1 1 1 1 1 1 1 1 1 1 1 1 1 1 1 1 1 1 1 1 1 1 1 1 1 1 1 1 1 1 1 1 1 0 1 1 1 1 1 1 1 1 1 1 1 1 ] #19 {1 38 49 109 122 195 196 207 221 225 230 244 280 300 309 320 368 374 385 }\n",
      "\n",
      "[['Sentence #38:',\n",
      "  'AAO4KDR576NZB|B0050SYX8W',\n",
      "  \"i 'll start by saying that my first foray into the halo universe was with halo 3. i never owned halo 1 or 2 for the \"\n",
      "  'original xbox , but picked up the series on 360 due to my friend loving it so much . i thought the halo 3 online '\n",
      "  \"multiplayer experience was really great , but was n't all that excited by the campaign . after playing halo reach \"\n",
      "  'and passing over odst , i was hesitant about halo 4 , especially since it was being developed by 343 instead of '\n",
      "  'bungie . thankfully 343 delivered.first off , many reviews of halo 4 praised the campaign for being a step above '\n",
      "  'and beyond halo 3. many critics said it was fun , engaging , and held your interest much better than the past games '\n",
      "  \". i do n't really agree with this at all . aside from graphical improvements , and the sound/feel of the weapons ( \"\n",
      "  'much better this time around ) , the campaign is right on par with halo 3. after playing through it with my buddy '\n",
      "  \"on co-op , i do n't think i will ever feel inclined to play it again . he went through the game on solo legendary ( \"\n",
      "  \"to get the achievement ) , but i just could n't bring myself to spend the time on it . although it was fun when i \"\n",
      "  \"went through it with my friend , ultimately it 's a pretty forgettable campaign.multiplayer on the other hand is a \"\n",
      "  'lot of fun . 343 did an excellent job of maintaining everything about the series that made the online component one '\n",
      "  \"of the most admired in the industry . there 's not really much to say here , other than if you 've played halo 3 , \"\n",
      "  \"reach , or odst , you have a general idea of what you 're in for . it 's probably the best iteration of the halo \"\n",
      "  'multiplayer experience yet.although halo 4 is a great entry into the series , the ho-hum campaign knocks it down a '\n",
      "  \"star for me , especially because i 'm an old-school gamer who really enjoys the single-player aspect of games . if \"\n",
      "  \"you enjoy halo or even fps games in general , you 're certain to love halo 4 .\"],\n",
      " ['Sentence #368:',\n",
      "  'A16ZNVA07NX1DG|B0050SYX8W',\n",
      "  \"i 've always enjoyed the halo series . but , in this latest release i feel the controls are a little too mushy . i \"\n",
      "  \"feel like my character is drugged and lethargic in its movements . but , i have to admit i have n't played it all \"\n",
      "  'the way through .'],\n",
      " ['Sentence #300:',\n",
      "  'ACY0O6L1R1HSC|B0050SYX8W',\n",
      "  'halo 4 tops all the other halos . the forge mode on this one opens up a new book for creativity . the multiplayer '\n",
      "  \"has a broad selection of games to play so getting bored is n't an option . you wo n't regret buying this game if \"\n",
      "  'you love all the other halos .'],\n",
      " ['Sentence #221:',\n",
      "  'A3TK3XD16I08SZ|B0050SYX8W',\n",
      "  'i played a good amount of halo 3 when it came out years ago and loved it . so far , i love halo 4. it contains a '\n",
      "  \"lot of the positive elements from past games and improves on the past poor elements . i have n't play the campaign \"\n",
      "  'yet but i love online multiplayer : ) .'],\n",
      " ['Sentence #230:',\n",
      "  'AXIW3EH7ZVEY1|B0050SYX8W',\n",
      "  'halo 3 was beautiful with story line and multiplayer , but when halo 4 came out . 343 industries blew me away . the '\n",
      "  'new looks and textures are so much better . i miss dual wielding though . spraying someone down with two plasma '\n",
      "  \"rifles was my favorite . overall most fun i 've ever had in halo .\"],\n",
      " ['Sentence #244:',\n",
      "  'A14QDTXXO2MTNL|B0050SYX8W',\n",
      "  'this is my sons opinion since this was purchased for him.i really fill like they messed up on this one the best '\n",
      "  'halo in my opinion was halo 2'],\n",
      " ['Sentence #122:',\n",
      "  'ASO4TOPJ77GG1|B0050SYX8W',\n",
      "  'halo is still halo and this game is a great installment into the halo series . although halo is beginning to lose '\n",
      "  'its luster since it has been pretty much the same since halo : combat evolved the gameplay is still as fun as ever '\n",
      "  '. i would recommend this game if not for the multiplayer to at least play the story since they did an excellent job '\n",
      "  'picking up where halo 3 left off .'],\n",
      " ['Sentence #109:',\n",
      "  'A7ZVK3V3S35CF|B0050SYX8W',\n",
      "  \"game is great . good story line . graphics are terrific . hope they do not ditch cortana in the next one . ca n't \"\n",
      "  'they just update her ?'],\n",
      " ['Sentence #374:',\n",
      "  'A2MFKHOMFF29VY|B0050SYX8W',\n",
      "  'i am a fanboy who has really enjoyed the story of master chief . a solid game , tight controls , true to the '\n",
      "  'mythology . i have played all the halo games and this is right up there with the best . i like some of the new '\n",
      "  \"weapons . the prometheans are interesting as well . good story . campaign was engaging and fun . i do n't really \"\n",
      "  \"play halo mp , so ca n't really comment on the aspect .\"],\n",
      " ['Sentence #196:',\n",
      "  'A20DOSUEL352AB|B0050SYX8W',\n",
      "  'this game is incredible . from gameplay to visuals to graphics to enemies to storyline to overall experience to '\n",
      "  'multiplayer to everything else this game is truly one of the best . the halo franchise is classic and incredible '\n",
      "  'and this may be the best of them all . this is the kind of game you will put hundreds . of hours into and never get '\n",
      "  'tired of . i would recommend this game to anyone who enjoys high quality entertainment of any kind .'],\n",
      " ['Sentence #225:',\n",
      "  'A3ETZ7QYVUOW1J|B0050SYX8W',\n",
      "  'i started playing halo since the 1st iteration . after playing the crapolla out of halo 2 ( the best halo until now '\n",
      "  ') and playing halo 3 i stopped playing for a while . halo 3 was great visually but the story was meh and the '\n",
      "  'gameplay was ok. after getting hooked on call of duty there seemed very little reason to come back to halo.enter '\n",
      "  'halo 4. from the very first scene i could tell that this was going to bring that same feeling when i played halo '\n",
      "  'for the first time . visually stunning from the first few seconds and the story is much more engaging ( imo ) . i '\n",
      "  'would imagine that it would be a challenge to continue a much loved franchise and make it fresh and new while still '\n",
      "  'keeping that feel that fans want to experience . studio 343i has managed to do just that , and some ! master chief '\n",
      "  \"'s relationship with cortana is deeper which draws the player into the story more , because ultimately \"\n",
      "  \"relationships are what makes stories great.this game is fun and engaging . i 'm playing with my daughter and we 're \"\n",
      "  \"literally playing on the edge of our seats . we do n't know what to expect next and the mystery and suspense is a \"\n",
      "  \"wonderful experience . i do n't have anything to say about the multiplayer because we are still going through the \"\n",
      "  \"campaign but i 've read/seen reviews that praise it.in conclusion , i 'm just very excited to complete this game \"\n",
      "  'and i had to give my two cents about it in this review . i think this is a very good start for the continuation of '\n",
      "  'an amazing franchise that has brought countless hours of fun and excitement to people all over the world.p.s . my '\n",
      "  'only gripe is that i can not dual wield anything but i forgive them for leaving it out .'],\n",
      " ['Sentence #207:',\n",
      "  'A330J272CXAZSZ|B0050SYX8W',\n",
      "  'not only is this the best looking halo yet , but this game also has the best story yet of any halo game . very much '\n",
      "  'looking forward to playing the next two halo games and seeing where the story goes . do yourself a favor and pick '\n",
      "  'this game up !'],\n",
      " ['Sentence #49:',\n",
      "  'AJR0OYOP007DB|B0050SYX8W',\n",
      "  'every thing here is amazing awesome graphics cool level design the new weapons and enemies look very unique and '\n",
      "  'creative easily the game of the year and maybe even the best halo game ( i can not decide whether it is worse or '\n",
      "  'better than combat evolved )'],\n",
      " ['Sentence #1:',\n",
      "  'A1GD1G8XXPRYQ8|B0050SYX8W',\n",
      "  \"there 's but 2 reasons why i wo n't give that game 5 stars : cortana and what happens to her and the game is kind \"\n",
      "  \"of sad . other than that i enjoyed it . i think it 's a good game and just as good as halo 3 except for the story \"\n",
      "  \"line , which ca n't be compared , since the story moves on . now that i finished the game and cortana is gone , i \"\n",
      "  'wonder what will happen next in halo 5 .'],\n",
      " ['Sentence #320:',\n",
      "  'A3VT9VE8JYA0LI|B0050SYX8W',\n",
      "  \"i 've played all the halo games ( except the rts ) , and can honestly say that this is one of the best our of the \"\n",
      "  '6. nothing compares to first experiencing the halo universe but in terms of overall quality , this ranks at the '\n",
      "  'top.if you love cortana , you will especially like this sequel because the focus is on her . someone spoiled the '\n",
      "  'ending for me and i still enjoyed the story.the new bad guys in the game keep the combat and game play in general '\n",
      "  'interesting and enjoyable . the graphics are amazing and the level design is superb . every aspect of the game is '\n",
      "  \"outstanding . i do n't have much of anything to complain about so i 'll need to cut this short.if you love halo , \"\n",
      "  \"your probably already finished this game . if you never liked halo , this game wo n't change your mind .\"]]\n"
     ]
    }
   ],
   "source": [
    "print(proclus_h4['exp_k4_d95'][2])\n",
    "pp.pprint(sample_sentences_from_cluster_sub(proclus_h4['exp_k4_d95'], 2, 15, halo_4))\n",
    "\n",
    "print(proclus_h4['exp_k4_d95'][3])\n",
    "pp.pprint(sample_sentences_from_cluster_sub(proclus_h4['exp_k4_d95'], 3, 15, halo_4))\n",
    "\n",
    "print(proclus_h4['exp_k4_d95'][4])\n",
    "pp.pprint(sample_sentences_from_cluster_sub(proclus_h4['exp_k4_d95'], 4, 15, halo_4))\n",
    "\n",
    "print(proclus_h4['exp_k4_d95'][5])\n",
    "pp.pprint(sample_sentences_from_cluster_sub(proclus_h4['exp_k4_d95'], 5, 15, halo_4))"
   ]
  },
  {
   "cell_type": "code",
   "execution_count": null,
   "metadata": {
    "collapsed": true
   },
   "outputs": [],
   "source": []
  }
 ],
 "metadata": {
  "kernelspec": {
   "display_name": "Python 3",
   "language": "python",
   "name": "python3"
  },
  "language_info": {
   "codemirror_mode": {
    "name": "ipython",
    "version": 3
   },
   "file_extension": ".py",
   "mimetype": "text/x-python",
   "name": "python",
   "nbconvert_exporter": "python",
   "pygments_lexer": "ipython3",
   "version": "3.6.0"
  }
 },
 "nbformat": 4,
 "nbformat_minor": 2
}
